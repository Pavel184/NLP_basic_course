{
  "nbformat": 4,
  "nbformat_minor": 0,
  "metadata": {
    "kernelspec": {
      "display_name": "Python 3",
      "language": "python",
      "name": "python3"
    },
    "language_info": {
      "codemirror_mode": {
        "name": "ipython",
        "version": 3
      },
      "file_extension": ".py",
      "mimetype": "text/x-python",
      "name": "python",
      "nbconvert_exporter": "python",
      "pygments_lexer": "ipython3",
      "version": "3.8.3"
    },
    "colab": {
      "name": "Homework_lesson_8.ipynb",
      "provenance": [],
      "collapsed_sections": [],
      "include_colab_link": true
    }
  },
  "cells": [
    {
      "cell_type": "markdown",
      "metadata": {
        "id": "view-in-github",
        "colab_type": "text"
      },
      "source": [
        "<a href=\"https://colab.research.google.com/github/Pavel184/NLP_basic_course/blob/Homework_lesson_8/Homework_lesson_8.ipynb\" target=\"_parent\"><img src=\"https://colab.research.google.com/assets/colab-badge.svg\" alt=\"Open In Colab\"/></a>"
      ]
    },
    {
      "cell_type": "markdown",
      "metadata": {
        "id": "RqIRTmDZAF-V"
      },
      "source": [
        "### HOMEWORK_LESSON_8"
      ]
    },
    {
      "cell_type": "code",
      "metadata": {
        "colab": {
          "base_uri": "https://localhost:8080/"
        },
        "id": "55aN5FaV-7Au",
        "outputId": "7e6da605-9e50-43f3-91fa-24815079428d"
      },
      "source": [
        "!pip install stop-words"
      ],
      "execution_count": 1,
      "outputs": [
        {
          "output_type": "stream",
          "name": "stdout",
          "text": [
            "Collecting stop-words\n",
            "  Downloading stop-words-2018.7.23.tar.gz (31 kB)\n",
            "Building wheels for collected packages: stop-words\n",
            "  Building wheel for stop-words (setup.py) ... \u001b[?25l\u001b[?25hdone\n",
            "  Created wheel for stop-words: filename=stop_words-2018.7.23-py3-none-any.whl size=32912 sha256=e41ff588ff2cf459cb29568c490e88234e2d381ca81a8aed29dcd8d8f6728322\n",
            "  Stored in directory: /root/.cache/pip/wheels/fb/86/b2/277b10b1ce9f73ce15059bf6975d4547cc4ec3feeb651978e9\n",
            "Successfully built stop-words\n",
            "Installing collected packages: stop-words\n",
            "Successfully installed stop-words-2018.7.23\n"
          ]
        }
      ]
    },
    {
      "cell_type": "code",
      "metadata": {
        "colab": {
          "base_uri": "https://localhost:8080/"
        },
        "id": "TvrCgwXW_A-Y",
        "outputId": "1bba8bcc-af26-44f5-bc17-82a4e9cbf401"
      },
      "source": [
        "!pip install pymorphy2"
      ],
      "execution_count": 2,
      "outputs": [
        {
          "output_type": "stream",
          "name": "stdout",
          "text": [
            "Collecting pymorphy2\n",
            "  Downloading pymorphy2-0.9.1-py3-none-any.whl (55 kB)\n",
            "\u001b[K     |████████████████████████████████| 55 kB 2.8 MB/s \n",
            "\u001b[?25hCollecting dawg-python>=0.7.1\n",
            "  Downloading DAWG_Python-0.7.2-py2.py3-none-any.whl (11 kB)\n",
            "Collecting pymorphy2-dicts-ru<3.0,>=2.4\n",
            "  Downloading pymorphy2_dicts_ru-2.4.417127.4579844-py2.py3-none-any.whl (8.2 MB)\n",
            "\u001b[K     |████████████████████████████████| 8.2 MB 14.1 MB/s \n",
            "\u001b[?25hRequirement already satisfied: docopt>=0.6 in /usr/local/lib/python3.7/dist-packages (from pymorphy2) (0.6.2)\n",
            "Installing collected packages: pymorphy2-dicts-ru, dawg-python, pymorphy2\n",
            "Successfully installed dawg-python-0.7.2 pymorphy2-0.9.1 pymorphy2-dicts-ru-2.4.417127.4579844\n"
          ]
        }
      ]
    },
    {
      "cell_type": "code",
      "metadata": {
        "id": "DLhFoPRN-P3h"
      },
      "source": [
        "# попробуем запрограммировать простую рекурентную сеть. Возьмем датасет с прошлого занятия\n",
        "\n",
        "import pandas as pd\n",
        "from string import punctuation\n",
        "from stop_words import get_stop_words\n",
        "from pymorphy2 import MorphAnalyzer\n",
        "import re\n",
        "\n",
        "import numpy as np\n",
        "import keras\n",
        "from keras.models import Sequential, Model\n",
        "from keras.layers import Dense, Dropout, Activation, Input, Embedding, Conv1D, GlobalMaxPool1D, SimpleRNN, LSTM, GRU, Masking, Concatenate\n",
        "from keras.preprocessing.text import Tokenizer\n",
        "from keras.preprocessing.sequence import pad_sequences\n",
        "from keras.callbacks import TensorBoard \n",
        "#from keras.objectives import categorical_crossentropy\n",
        "from keras.callbacks import EarlyStopping  \n",
        "from tensorflow.keras.utils import plot_model \n",
        "import tensorflow as tf\n",
        "import plotly.graph_objects as go"
      ],
      "execution_count": 3,
      "outputs": []
    },
    {
      "cell_type": "code",
      "metadata": {
        "colab": {
          "base_uri": "https://localhost:8080/"
        },
        "id": "eLxGQthc_6qU",
        "outputId": "8d7fd247-0481-4ca4-f88c-1c880b8a1490"
      },
      "source": [
        "from google.colab import drive\n",
        "\n",
        "drive.mount('/content/drive')  "
      ],
      "execution_count": 4,
      "outputs": [
        {
          "output_type": "stream",
          "name": "stdout",
          "text": [
            "Mounted at /content/drive\n"
          ]
        }
      ]
    },
    {
      "cell_type": "code",
      "metadata": {
        "id": "ogzudrfP-bBq"
      },
      "source": [
        "df_train = pd.read_csv('/content/drive/My Drive/Colab Notebooks/NLP_basic_course/datasets/data_lesson_8/train.csv')\n",
        "df_test = pd.read_csv('/content/drive/My Drive/Colab Notebooks/NLP_basic_course/datasets/data_lesson_8/test.csv')\n",
        "df_val = pd.read_csv('/content/drive/My Drive/Colab Notebooks/NLP_basic_course/datasets/data_lesson_8/val.csv')"
      ],
      "execution_count": 5,
      "outputs": []
    },
    {
      "cell_type": "code",
      "metadata": {
        "colab": {
          "base_uri": "https://localhost:8080/",
          "height": 206
        },
        "id": "uudGAvXa-P3j",
        "outputId": "f727d99a-e122-4327-f53c-bf7ef89c6428"
      },
      "source": [
        "df_train.head()"
      ],
      "execution_count": 6,
      "outputs": [
        {
          "output_type": "execute_result",
          "data": {
            "text/html": [
              "<div>\n",
              "<style scoped>\n",
              "    .dataframe tbody tr th:only-of-type {\n",
              "        vertical-align: middle;\n",
              "    }\n",
              "\n",
              "    .dataframe tbody tr th {\n",
              "        vertical-align: top;\n",
              "    }\n",
              "\n",
              "    .dataframe thead th {\n",
              "        text-align: right;\n",
              "    }\n",
              "</style>\n",
              "<table border=\"1\" class=\"dataframe\">\n",
              "  <thead>\n",
              "    <tr style=\"text-align: right;\">\n",
              "      <th></th>\n",
              "      <th>id</th>\n",
              "      <th>text</th>\n",
              "      <th>class</th>\n",
              "    </tr>\n",
              "  </thead>\n",
              "  <tbody>\n",
              "    <tr>\n",
              "      <th>0</th>\n",
              "      <td>0</td>\n",
              "      <td>@alisachachka не уезжаааааааай. :(❤ я тоже не ...</td>\n",
              "      <td>0</td>\n",
              "    </tr>\n",
              "    <tr>\n",
              "      <th>1</th>\n",
              "      <td>1</td>\n",
              "      <td>RT @GalyginVadim: Ребята и девчата!\\nВсе в кин...</td>\n",
              "      <td>1</td>\n",
              "    </tr>\n",
              "    <tr>\n",
              "      <th>2</th>\n",
              "      <td>2</td>\n",
              "      <td>RT @ARTEM_KLYUSHIN: Кто ненавидит пробки ретви...</td>\n",
              "      <td>0</td>\n",
              "    </tr>\n",
              "    <tr>\n",
              "      <th>3</th>\n",
              "      <td>3</td>\n",
              "      <td>RT @epupybobv: Хочется котлету по-киевски. Зап...</td>\n",
              "      <td>1</td>\n",
              "    </tr>\n",
              "    <tr>\n",
              "      <th>4</th>\n",
              "      <td>4</td>\n",
              "      <td>@KarineKurganova @Yess__Boss босапопа есбоса н...</td>\n",
              "      <td>1</td>\n",
              "    </tr>\n",
              "  </tbody>\n",
              "</table>\n",
              "</div>"
            ],
            "text/plain": [
              "   id                                               text  class\n",
              "0   0  @alisachachka не уезжаааааааай. :(❤ я тоже не ...      0\n",
              "1   1  RT @GalyginVadim: Ребята и девчата!\\nВсе в кин...      1\n",
              "2   2  RT @ARTEM_KLYUSHIN: Кто ненавидит пробки ретви...      0\n",
              "3   3  RT @epupybobv: Хочется котлету по-киевски. Зап...      1\n",
              "4   4  @KarineKurganova @Yess__Boss босапопа есбоса н...      1"
            ]
          },
          "metadata": {},
          "execution_count": 6
        }
      ]
    },
    {
      "cell_type": "code",
      "metadata": {
        "id": "usWabg5C-P3k"
      },
      "source": [
        "sw = set(get_stop_words(\"ru\"))\n",
        "exclude = set(punctuation)\n",
        "morpher = MorphAnalyzer()\n",
        "\n",
        "def preprocess_text(txt):\n",
        "    txt = str(txt)\n",
        "    txt = \"\".join(c for c in txt if c not in exclude)\n",
        "    txt = txt.lower()\n",
        "    txt = re.sub(\"\\sне\", \"не\", txt)\n",
        "    txt = [morpher.parse(word)[0].normal_form for word in txt.split() if word not in sw]\n",
        "    return \" \".join(txt)\n",
        "\n",
        "df_train['text'] = df_train['text'].apply(preprocess_text)\n",
        "df_val['text'] = df_val['text'].apply(preprocess_text)\n",
        "df_test['text'] = df_test['text'].apply(preprocess_text)"
      ],
      "execution_count": 7,
      "outputs": []
    },
    {
      "cell_type": "code",
      "metadata": {
        "id": "CZgV_tXB-P3l"
      },
      "source": [
        "text_corpus_train = df_train['text'].values\n",
        "text_corpus_valid = df_val['text'].values\n",
        "text_corpus_test = df_test['text'].values"
      ],
      "execution_count": 8,
      "outputs": []
    },
    {
      "cell_type": "code",
      "metadata": {
        "id": "hnyiNTfH-P3m"
      },
      "source": [
        "tokenizer = Tokenizer(num_words=None, \n",
        "                     filters='#$%&()*+-<=>@[\\\\]^_`{|}~\\t\\n',\n",
        "                     lower = False, split = ' ')\n",
        "tokenizer.fit_on_texts(text_corpus_train)\n",
        "\n",
        "sequences_train = tokenizer.texts_to_sequences(text_corpus_train)\n",
        "sequences_val = tokenizer.texts_to_sequences(text_corpus_valid)\n",
        "sequences_test = tokenizer.texts_to_sequences(text_corpus_test)\n",
        "\n",
        "word_count = len(tokenizer.index_word) + 1\n",
        "training_length = max([len(i.split()) for i in text_corpus_train])\n",
        "\n",
        "X_train = pad_sequences(sequences_train, maxlen=training_length)\n",
        "X_valid = pad_sequences(sequences_val, maxlen=training_length)\n",
        "\n"
      ],
      "execution_count": 9,
      "outputs": []
    },
    {
      "cell_type": "code",
      "metadata": {
        "id": "VoLSCoUx-P3m"
      },
      "source": [
        "y_train = df_train['class'].values\n",
        "y_val = df_val['class'].values"
      ],
      "execution_count": 10,
      "outputs": []
    },
    {
      "cell_type": "code",
      "metadata": {
        "id": "XdX-yg48DLaJ"
      },
      "source": [
        "# Таблица результатов\n",
        "models_results = {\n",
        "    'approach': [],\n",
        "    'Test_loss': [],\n",
        "    'Test_accuracy': []\n",
        "}"
      ],
      "execution_count": 11,
      "outputs": []
    },
    {
      "cell_type": "markdown",
      "metadata": {
        "id": "WuYk3zJwAB0N"
      },
      "source": [
        "### 1. построить свёрточные архитектуры"
      ]
    },
    {
      "cell_type": "code",
      "metadata": {
        "id": "Qbx2eWMVyDFe"
      },
      "source": [
        "epochs = 5"
      ],
      "execution_count": 12,
      "outputs": []
    },
    {
      "cell_type": "code",
      "metadata": {
        "colab": {
          "base_uri": "https://localhost:8080/"
        },
        "id": "FXtmxmE2BaF8",
        "outputId": "889322cd-d98e-4e00-ca75-edd8ca29c57b"
      },
      "source": [
        "# Модель CNN\n",
        "input = tf.keras.Input(shape=(training_length))\n",
        "emb_1 = Embedding(input_dim=word_count, output_dim=32, input_length=training_length)(input)\n",
        "conv_1 = Conv1D(32, 3, activation='relu')(emb_1)\n",
        "glob_max_pool = GlobalMaxPool1D()(conv_1)\n",
        "dens_1 = Dense(10, activation='relu')(glob_max_pool)\n",
        "\n",
        "output = Dense(1,activation='sigmoid' )(dens_1)\n",
        "\n",
        "model_cnn = Model(inputs=input, outputs=output)\n",
        "\n",
        "model_cnn.compile(loss='binary_crossentropy',\n",
        "              optimizer='adam',\n",
        "              metrics=['accuracy'])\n",
        "model_cnn.summary()"
      ],
      "execution_count": 13,
      "outputs": [
        {
          "output_type": "stream",
          "name": "stdout",
          "text": [
            "Model: \"model\"\n",
            "_________________________________________________________________\n",
            " Layer (type)                Output Shape              Param #   \n",
            "=================================================================\n",
            " input_1 (InputLayer)        [(None, 27)]              0         \n",
            "                                                                 \n",
            " embedding (Embedding)       (None, 27, 32)            8259456   \n",
            "                                                                 \n",
            " conv1d (Conv1D)             (None, 25, 32)            3104      \n",
            "                                                                 \n",
            " global_max_pooling1d (Globa  (None, 32)               0         \n",
            " lMaxPooling1D)                                                  \n",
            "                                                                 \n",
            " dense (Dense)               (None, 10)                330       \n",
            "                                                                 \n",
            " dense_1 (Dense)             (None, 1)                 11        \n",
            "                                                                 \n",
            "=================================================================\n",
            "Total params: 8,262,901\n",
            "Trainable params: 8,262,901\n",
            "Non-trainable params: 0\n",
            "_________________________________________________________________\n"
          ]
        }
      ]
    },
    {
      "cell_type": "code",
      "metadata": {
        "colab": {
          "base_uri": "https://localhost:8080/"
        },
        "id": "dEYbnOSL_9UM",
        "outputId": "850dd689-2111-4d33-cc03-88018e299177"
      },
      "source": [
        "history_cnn = model_cnn.fit(X_train, y_train,\n",
        "                    batch_size=512,\n",
        "                    epochs=epochs,\n",
        "                    verbose=1,\n",
        "                    validation_split=0.1)"
      ],
      "execution_count": 14,
      "outputs": [
        {
          "output_type": "stream",
          "name": "stdout",
          "text": [
            "Epoch 1/5\n",
            "319/319 [==============================] - 33s 102ms/step - loss: 0.5669 - accuracy: 0.6955 - val_loss: 0.4942 - val_accuracy: 0.7547\n",
            "Epoch 2/5\n",
            "319/319 [==============================] - 32s 101ms/step - loss: 0.3259 - accuracy: 0.8623 - val_loss: 0.5255 - val_accuracy: 0.7492\n",
            "Epoch 3/5\n",
            "319/319 [==============================] - 32s 101ms/step - loss: 0.1312 - accuracy: 0.9519 - val_loss: 0.6561 - val_accuracy: 0.7403\n",
            "Epoch 4/5\n",
            "319/319 [==============================] - 32s 101ms/step - loss: 0.0575 - accuracy: 0.9808 - val_loss: 0.7928 - val_accuracy: 0.7343\n",
            "Epoch 5/5\n",
            "319/319 [==============================] - 32s 101ms/step - loss: 0.0302 - accuracy: 0.9907 - val_loss: 0.9082 - val_accuracy: 0.7299\n"
          ]
        }
      ]
    },
    {
      "cell_type": "code",
      "metadata": {
        "colab": {
          "base_uri": "https://localhost:8080/"
        },
        "id": "P4zsl9dt_9XE",
        "outputId": "793db43e-9289-40ec-9c09-d28b0479cd5c"
      },
      "source": [
        "score_cnn = model_cnn.evaluate(X_valid, y_val, batch_size=512, verbose=1)\n",
        "print('\\n')\n",
        "print('Test score:', score_cnn[0])\n",
        "print('Test accuracy:', score_cnn[1])"
      ],
      "execution_count": 15,
      "outputs": [
        {
          "output_type": "stream",
          "name": "stdout",
          "text": [
            "45/45 [==============================] - 0s 5ms/step - loss: 1.0402 - accuracy: 0.7169\n",
            "\n",
            "\n",
            "Test score: 1.0401943922042847\n",
            "Test accuracy: 0.7168805003166199\n"
          ]
        }
      ]
    },
    {
      "cell_type": "code",
      "metadata": {
        "id": "JDcqaWUp_9aD"
      },
      "source": [
        "models_results['approach'].append('CNN')\n",
        "models_results['Test_loss'].append(score_cnn[0])\n",
        "models_results['Test_accuracy'].append(score_cnn[1])"
      ],
      "execution_count": 16,
      "outputs": []
    },
    {
      "cell_type": "markdown",
      "metadata": {
        "id": "RXL2lBwKFkS4"
      },
      "source": [
        "### 2. построить различные архитектуры с RNN"
      ]
    },
    {
      "cell_type": "markdown",
      "metadata": {
        "id": "FRnnoKzsFqeq"
      },
      "source": [
        "### SimpleRNN"
      ]
    },
    {
      "cell_type": "code",
      "metadata": {
        "colab": {
          "base_uri": "https://localhost:8080/"
        },
        "id": "ApcuM_S4-P3n",
        "outputId": "535d65bf-3b8a-43cf-83f1-698ae4658913"
      },
      "source": [
        "model_rnn = Sequential()\n",
        "\n",
        "model_rnn.add(\n",
        "    Embedding(input_dim=word_count,\n",
        "              input_length=training_length,\n",
        "              output_dim=32,\n",
        "              trainable=True,\n",
        "              mask_zero=True))\n",
        "model_rnn.add(Masking(mask_value=0.0))\n",
        "\n",
        "model_rnn.add(SimpleRNN(32, recurrent_dropout=0.2))\n",
        "model_rnn.add(Dense(10, activation='relu'))\n",
        "model_rnn.add(Dropout(0.25))\n",
        "model_rnn.add(Dense(1, activation='sigmoid'))\n",
        "\n",
        "model_rnn.compile(\n",
        "    optimizer='adam', loss='binary_crossentropy', metrics=['accuracy'])\n",
        "model_rnn.summary()"
      ],
      "execution_count": 17,
      "outputs": [
        {
          "output_type": "stream",
          "name": "stdout",
          "text": [
            "Model: \"sequential\"\n",
            "_________________________________________________________________\n",
            " Layer (type)                Output Shape              Param #   \n",
            "=================================================================\n",
            " embedding_1 (Embedding)     (None, 27, 32)            8259456   \n",
            "                                                                 \n",
            " masking (Masking)           (None, 27, 32)            0         \n",
            "                                                                 \n",
            " simple_rnn (SimpleRNN)      (None, 32)                2080      \n",
            "                                                                 \n",
            " dense_2 (Dense)             (None, 10)                330       \n",
            "                                                                 \n",
            " dropout (Dropout)           (None, 10)                0         \n",
            "                                                                 \n",
            " dense_3 (Dense)             (None, 1)                 11        \n",
            "                                                                 \n",
            "=================================================================\n",
            "Total params: 8,261,877\n",
            "Trainable params: 8,261,877\n",
            "Non-trainable params: 0\n",
            "_________________________________________________________________\n"
          ]
        }
      ]
    },
    {
      "cell_type": "code",
      "metadata": {
        "colab": {
          "base_uri": "https://localhost:8080/"
        },
        "id": "Jr0K45NB-P3o",
        "outputId": "65ff8646-cee4-4eda-e9f1-397b16d2403e"
      },
      "source": [
        "history_rnn = model_rnn.fit(X_train, y_train,\n",
        "                    batch_size=512,\n",
        "                    epochs=epochs,\n",
        "                    verbose=1,\n",
        "                    validation_split=0.1)"
      ],
      "execution_count": 18,
      "outputs": [
        {
          "output_type": "stream",
          "name": "stdout",
          "text": [
            "Epoch 1/5\n",
            "319/319 [==============================] - 42s 128ms/step - loss: 0.6004 - accuracy: 0.6595 - val_loss: 0.5071 - val_accuracy: 0.7463\n",
            "Epoch 2/5\n",
            "319/319 [==============================] - 40s 126ms/step - loss: 0.3870 - accuracy: 0.8367 - val_loss: 0.5245 - val_accuracy: 0.7495\n",
            "Epoch 3/5\n",
            "319/319 [==============================] - 41s 127ms/step - loss: 0.2032 - accuracy: 0.9269 - val_loss: 0.6556 - val_accuracy: 0.7362\n",
            "Epoch 4/5\n",
            "319/319 [==============================] - 40s 126ms/step - loss: 0.1182 - accuracy: 0.9606 - val_loss: 0.7428 - val_accuracy: 0.7338\n",
            "Epoch 5/5\n",
            "319/319 [==============================] - 41s 128ms/step - loss: 0.0814 - accuracy: 0.9737 - val_loss: 0.9080 - val_accuracy: 0.7290\n"
          ]
        }
      ]
    },
    {
      "cell_type": "code",
      "metadata": {
        "colab": {
          "base_uri": "https://localhost:8080/"
        },
        "id": "gWvcf7Vd-P3o",
        "outputId": "f28a1d77-1f6f-4482-a599-6fac469a9381"
      },
      "source": [
        "score_rnn = model_rnn.evaluate(X_valid, y_val, batch_size=512, verbose=1)\n",
        "print('\\n')\n",
        "print('Test score:', score_rnn[0])\n",
        "print('Test accuracy:', score_rnn[1])"
      ],
      "execution_count": 19,
      "outputs": [
        {
          "output_type": "stream",
          "name": "stdout",
          "text": [
            "45/45 [==============================] - 1s 13ms/step - loss: 0.9296 - accuracy: 0.7227\n",
            "\n",
            "\n",
            "Test score: 0.9295567274093628\n",
            "Test accuracy: 0.722655713558197\n"
          ]
        }
      ]
    },
    {
      "cell_type": "code",
      "metadata": {
        "id": "ZiQQGrPHE-NC"
      },
      "source": [
        "models_results['approach'].append('SimpleRNN')\n",
        "models_results['Test_loss'].append(score_rnn[0])\n",
        "models_results['Test_accuracy'].append(score_rnn[1])"
      ],
      "execution_count": 20,
      "outputs": []
    },
    {
      "cell_type": "markdown",
      "metadata": {
        "id": "uTrcGjerNJE8"
      },
      "source": [
        "### LSTM"
      ]
    },
    {
      "cell_type": "code",
      "metadata": {
        "colab": {
          "base_uri": "https://localhost:8080/"
        },
        "id": "UIBO4F3H-P3p",
        "outputId": "939e84c2-5f34-40b7-e515-9cefbd730111"
      },
      "source": [
        "model_lstm = Sequential()\n",
        "\n",
        "model_lstm.add(\n",
        "    Embedding(input_dim=word_count,\n",
        "              input_length=training_length,\n",
        "              output_dim=32,\n",
        "              trainable=True,\n",
        "              mask_zero=True))\n",
        "model_lstm.add(Masking(mask_value=0.0))\n",
        "model_lstm.add(LSTM(32, recurrent_dropout=0.2))\n",
        "model_lstm.add(Dense(10, activation='relu'))\n",
        "model_lstm.add(Dropout(0.25))\n",
        "model_lstm.add(Dense(1, activation='sigmoid'))\n",
        "\n",
        "model_lstm.compile(\n",
        "    optimizer='adam', loss='binary_crossentropy', metrics=['accuracy'])\n",
        "\n",
        "model_lstm.summary()\n",
        "\n",
        "history_lstm = model_lstm.fit(X_train, y_train,\n",
        "                    batch_size=512,\n",
        "                    epochs=epochs,\n",
        "                    verbose=1,\n",
        "                    validation_split=0.1)"
      ],
      "execution_count": 21,
      "outputs": [
        {
          "output_type": "stream",
          "name": "stdout",
          "text": [
            "Model: \"sequential_1\"\n",
            "_________________________________________________________________\n",
            " Layer (type)                Output Shape              Param #   \n",
            "=================================================================\n",
            " embedding_2 (Embedding)     (None, 27, 32)            8259456   \n",
            "                                                                 \n",
            " masking_1 (Masking)         (None, 27, 32)            0         \n",
            "                                                                 \n",
            " lstm (LSTM)                 (None, 32)                8320      \n",
            "                                                                 \n",
            " dense_4 (Dense)             (None, 10)                330       \n",
            "                                                                 \n",
            " dropout_1 (Dropout)         (None, 10)                0         \n",
            "                                                                 \n",
            " dense_5 (Dense)             (None, 1)                 11        \n",
            "                                                                 \n",
            "=================================================================\n",
            "Total params: 8,268,117\n",
            "Trainable params: 8,268,117\n",
            "Non-trainable params: 0\n",
            "_________________________________________________________________\n",
            "Epoch 1/5\n",
            "319/319 [==============================] - 60s 181ms/step - loss: 0.5613 - accuracy: 0.7045 - val_loss: 0.4954 - val_accuracy: 0.7579\n",
            "Epoch 2/5\n",
            "319/319 [==============================] - 57s 180ms/step - loss: 0.3443 - accuracy: 0.8592 - val_loss: 0.5389 - val_accuracy: 0.7463\n",
            "Epoch 3/5\n",
            "319/319 [==============================] - 57s 179ms/step - loss: 0.1832 - accuracy: 0.9342 - val_loss: 0.6326 - val_accuracy: 0.7369\n",
            "Epoch 4/5\n",
            "319/319 [==============================] - 57s 180ms/step - loss: 0.1173 - accuracy: 0.9602 - val_loss: 0.8111 - val_accuracy: 0.7305\n",
            "Epoch 5/5\n",
            "319/319 [==============================] - 57s 179ms/step - loss: 0.0890 - accuracy: 0.9699 - val_loss: 0.9441 - val_accuracy: 0.7297\n"
          ]
        }
      ]
    },
    {
      "cell_type": "code",
      "metadata": {
        "colab": {
          "base_uri": "https://localhost:8080/"
        },
        "id": "UFTDaKN--P3p",
        "outputId": "dcb943a5-0460-4ce8-c66c-df7454e67718"
      },
      "source": [
        "score_lstm = model_lstm.evaluate(X_valid, y_val, batch_size=512, verbose=1)\n",
        "print('\\n')\n",
        "print('Test score:', score_lstm[0])\n",
        "print('Test accuracy:', score_lstm[1])"
      ],
      "execution_count": 22,
      "outputs": [
        {
          "output_type": "stream",
          "name": "stdout",
          "text": [
            "45/45 [==============================] - 1s 21ms/step - loss: 1.0397 - accuracy: 0.7183\n",
            "\n",
            "\n",
            "Test score: 1.0396699905395508\n",
            "Test accuracy: 0.7182912230491638\n"
          ]
        }
      ]
    },
    {
      "cell_type": "code",
      "metadata": {
        "id": "HJ1fbc7lNfKu"
      },
      "source": [
        "models_results['approach'].append('LSTM')\n",
        "models_results['Test_loss'].append(score_lstm[0])\n",
        "models_results['Test_accuracy'].append(score_lstm[1])"
      ],
      "execution_count": 23,
      "outputs": []
    },
    {
      "cell_type": "markdown",
      "metadata": {
        "id": "wGptzGVZ-P3q"
      },
      "source": [
        "### GRU\n"
      ]
    },
    {
      "cell_type": "code",
      "metadata": {
        "colab": {
          "base_uri": "https://localhost:8080/"
        },
        "id": "FDwvcsq9-P3q",
        "outputId": "049d8e35-a55b-4bb7-8c96-9b93e47ec7a9"
      },
      "source": [
        "model_gru = Sequential()\n",
        "\n",
        "model_gru.add(\n",
        "    Embedding(input_dim=word_count,\n",
        "              input_length=training_length,\n",
        "              output_dim=32,\n",
        "              trainable=True,\n",
        "              mask_zero=True))\n",
        "model_gru.add(Masking(mask_value=0.0))\n",
        "model_gru.add(GRU(32, recurrent_dropout=0.2))\n",
        "model_gru.add(Dense(10, activation='relu'))\n",
        "model_gru.add(Dropout(0.25))\n",
        "model_gru.add(Dense(1, activation='sigmoid'))\n",
        "\n",
        "model_gru.compile(\n",
        "    optimizer='adam', loss='binary_crossentropy', metrics=['accuracy'])\n",
        "\n",
        "model_gru.summary()\n",
        "\n",
        "history_gru = model_gru.fit(X_train, y_train,\n",
        "                    batch_size=512,\n",
        "                    epochs=epochs,\n",
        "                    verbose=1,\n",
        "                    validation_split=0.1)"
      ],
      "execution_count": 24,
      "outputs": [
        {
          "output_type": "stream",
          "name": "stdout",
          "text": [
            "Model: \"sequential_2\"\n",
            "_________________________________________________________________\n",
            " Layer (type)                Output Shape              Param #   \n",
            "=================================================================\n",
            " embedding_3 (Embedding)     (None, 27, 32)            8259456   \n",
            "                                                                 \n",
            " masking_2 (Masking)         (None, 27, 32)            0         \n",
            "                                                                 \n",
            " gru (GRU)                   (None, 32)                6336      \n",
            "                                                                 \n",
            " dense_6 (Dense)             (None, 10)                330       \n",
            "                                                                 \n",
            " dropout_2 (Dropout)         (None, 10)                0         \n",
            "                                                                 \n",
            " dense_7 (Dense)             (None, 1)                 11        \n",
            "                                                                 \n",
            "=================================================================\n",
            "Total params: 8,266,133\n",
            "Trainable params: 8,266,133\n",
            "Non-trainable params: 0\n",
            "_________________________________________________________________\n",
            "Epoch 1/5\n",
            "319/319 [==============================] - 55s 163ms/step - loss: 0.5653 - accuracy: 0.7054 - val_loss: 0.4982 - val_accuracy: 0.7517\n",
            "Epoch 2/5\n",
            "319/319 [==============================] - 52s 162ms/step - loss: 0.3399 - accuracy: 0.8618 - val_loss: 0.5338 - val_accuracy: 0.7504\n",
            "Epoch 3/5\n",
            "319/319 [==============================] - 52s 162ms/step - loss: 0.1738 - accuracy: 0.9367 - val_loss: 0.6666 - val_accuracy: 0.7347\n",
            "Epoch 4/5\n",
            "319/319 [==============================] - 52s 162ms/step - loss: 0.1124 - accuracy: 0.9622 - val_loss: 0.8128 - val_accuracy: 0.7331\n",
            "Epoch 5/5\n",
            "319/319 [==============================] - 52s 163ms/step - loss: 0.0840 - accuracy: 0.9716 - val_loss: 0.9002 - val_accuracy: 0.7315\n"
          ]
        }
      ]
    },
    {
      "cell_type": "code",
      "metadata": {
        "colab": {
          "base_uri": "https://localhost:8080/"
        },
        "id": "pFpJ_9U3-P3q",
        "outputId": "7d45d46c-1cbd-4d1a-9ac9-30d1752c5e0c"
      },
      "source": [
        "score_gru = model_gru.evaluate(X_valid, y_val, batch_size=512, verbose=1)\n",
        "print('\\n')\n",
        "print('Test score:', score_gru[0])\n",
        "print('Test accuracy:', score_gru[1])"
      ],
      "execution_count": 25,
      "outputs": [
        {
          "output_type": "stream",
          "name": "stdout",
          "text": [
            "45/45 [==============================] - 1s 19ms/step - loss: 1.0394 - accuracy: 0.7142\n",
            "\n",
            "\n",
            "Test score: 1.039439082145691\n",
            "Test accuracy: 0.7141912579536438\n"
          ]
        }
      ]
    },
    {
      "cell_type": "code",
      "metadata": {
        "id": "aXykEOusN9Xc"
      },
      "source": [
        "models_results['approach'].append('GRU')\n",
        "models_results['Test_loss'].append(score_gru[0])\n",
        "models_results['Test_accuracy'].append(score_gru[1])"
      ],
      "execution_count": 26,
      "outputs": []
    },
    {
      "cell_type": "markdown",
      "metadata": {
        "id": "6yesyWxD-P3r"
      },
      "source": [
        "### 3. построить совместные архитектуры CNN -> RNN и (RNN -> CNN)"
      ]
    },
    {
      "cell_type": "markdown",
      "metadata": {
        "id": "L6-HP0uQUml8"
      },
      "source": [
        "### SimpleRNN->CNN"
      ]
    },
    {
      "cell_type": "code",
      "metadata": {
        "colab": {
          "base_uri": "https://localhost:8080/"
        },
        "id": "l2m4W5BrUm2R",
        "outputId": "17e412af-5800-44d4-d42d-4e070bdd95c6"
      },
      "source": [
        "input = tf.keras.Input(shape=(training_length))\n",
        "emb_1 = Embedding(input_dim=word_count, output_dim=32, input_length=training_length)(input)\n",
        "\n",
        "rnn = SimpleRNN(32, recurrent_dropout=0.2, return_sequences=True)(emb_1)\n",
        "\n",
        "conv_1 = Conv1D(32, 3, activation='relu')(rnn)\n",
        "glob_max_pool = GlobalMaxPool1D()(conv_1)\n",
        "\n",
        "\n",
        "\n",
        "dens = Dense(10, activation='relu')(glob_max_pool)\n",
        "dens = Dropout(0.25)(dens)\n",
        "output = Dense(1,activation='sigmoid' )(dens)\n",
        "\n",
        "model_rnn_to_cnn = Model(inputs=input, outputs=output)\n",
        "\n",
        "model_rnn_to_cnn.compile(loss='binary_crossentropy',\n",
        "              optimizer='adam',\n",
        "              metrics=['accuracy'])\n",
        "model_rnn_to_cnn.summary()\n",
        "\n",
        "history_rnn_to_cnn = model_rnn_to_cnn.fit(X_train, y_train,\n",
        "                    batch_size=512,\n",
        "                    epochs=epochs,\n",
        "                    verbose=1,\n",
        "                    validation_split=0.1)"
      ],
      "execution_count": 27,
      "outputs": [
        {
          "output_type": "stream",
          "name": "stdout",
          "text": [
            "Model: \"model_1\"\n",
            "_________________________________________________________________\n",
            " Layer (type)                Output Shape              Param #   \n",
            "=================================================================\n",
            " input_2 (InputLayer)        [(None, 27)]              0         \n",
            "                                                                 \n",
            " embedding_4 (Embedding)     (None, 27, 32)            8259456   \n",
            "                                                                 \n",
            " simple_rnn_1 (SimpleRNN)    (None, 27, 32)            2080      \n",
            "                                                                 \n",
            " conv1d_1 (Conv1D)           (None, 25, 32)            3104      \n",
            "                                                                 \n",
            " global_max_pooling1d_1 (Glo  (None, 32)               0         \n",
            " balMaxPooling1D)                                                \n",
            "                                                                 \n",
            " dense_8 (Dense)             (None, 10)                330       \n",
            "                                                                 \n",
            " dropout_3 (Dropout)         (None, 10)                0         \n",
            "                                                                 \n",
            " dense_9 (Dense)             (None, 1)                 11        \n",
            "                                                                 \n",
            "=================================================================\n",
            "Total params: 8,264,981\n",
            "Trainable params: 8,264,981\n",
            "Non-trainable params: 0\n",
            "_________________________________________________________________\n",
            "Epoch 1/5\n",
            "319/319 [==============================] - 43s 130ms/step - loss: 0.6144 - accuracy: 0.6445 - val_loss: 0.5144 - val_accuracy: 0.7435\n",
            "Epoch 2/5\n",
            "319/319 [==============================] - 41s 128ms/step - loss: 0.4106 - accuracy: 0.8275 - val_loss: 0.5041 - val_accuracy: 0.7489\n",
            "Epoch 3/5\n",
            "319/319 [==============================] - 41s 127ms/step - loss: 0.2266 - accuracy: 0.9214 - val_loss: 0.6133 - val_accuracy: 0.7340\n",
            "Epoch 4/5\n",
            "319/319 [==============================] - 41s 128ms/step - loss: 0.1295 - accuracy: 0.9597 - val_loss: 0.7411 - val_accuracy: 0.7354\n",
            "Epoch 5/5\n",
            "319/319 [==============================] - 41s 128ms/step - loss: 0.0857 - accuracy: 0.9753 - val_loss: 0.8551 - val_accuracy: 0.7303\n"
          ]
        }
      ]
    },
    {
      "cell_type": "code",
      "metadata": {
        "colab": {
          "base_uri": "https://localhost:8080/"
        },
        "id": "zp9_tDE7Um-u",
        "outputId": "e91dc9c6-d326-4a18-8401-62353c57c1f2"
      },
      "source": [
        "score_rnn_to_cnn = model_rnn_to_cnn.evaluate(X_valid, y_val, batch_size=512, verbose=1)\n",
        "print('\\n')\n",
        "print('Test score:', score_rnn_to_cnn[0])\n",
        "print('Test accuracy:', score_rnn_to_cnn[1])"
      ],
      "execution_count": 28,
      "outputs": [
        {
          "output_type": "stream",
          "name": "stdout",
          "text": [
            "45/45 [==============================] - 1s 12ms/step - loss: 0.9280 - accuracy: 0.7196\n",
            "\n",
            "\n",
            "Test score: 0.9279695153236389\n",
            "Test accuracy: 0.719569742679596\n"
          ]
        }
      ]
    },
    {
      "cell_type": "code",
      "metadata": {
        "id": "MEZ9r96eUnLC"
      },
      "source": [
        "models_results['approach'].append('RNN->CNN')\n",
        "models_results['Test_loss'].append(score_rnn_to_cnn[0])\n",
        "models_results['Test_accuracy'].append(score_rnn_to_cnn[1])"
      ],
      "execution_count": 29,
      "outputs": []
    },
    {
      "cell_type": "markdown",
      "metadata": {
        "id": "i2UIu5PgKHwj"
      },
      "source": [
        "### CNN->SimpleRNN"
      ]
    },
    {
      "cell_type": "code",
      "metadata": {
        "colab": {
          "base_uri": "https://localhost:8080/"
        },
        "id": "rlx5CguQKGoL",
        "outputId": "92cc58fb-8a67-4fd7-f069-ae56cc1990bc"
      },
      "source": [
        "input = tf.keras.Input(shape=(training_length))\n",
        "emb_1 = Embedding(input_dim=word_count, output_dim=32, input_length=training_length)(input)\n",
        "conv_1 = Conv1D(32, 3, activation='relu')(emb_1)\n",
        "glob_max_pool = GlobalMaxPool1D(keepdims=True)(conv_1)\n",
        "\n",
        "rnn = SimpleRNN(32, recurrent_dropout=0.2)(glob_max_pool)\n",
        "\n",
        "dens = Dense(10, activation='relu')(rnn)\n",
        "dens = Dropout(0.25)(dens)\n",
        "output = Dense(1,activation='sigmoid' )(dens)\n",
        "\n",
        "model_cnn_to_rnn = Model(inputs=input, outputs=output)\n",
        "\n",
        "model_cnn_to_rnn.compile(loss='binary_crossentropy',\n",
        "              optimizer='adam',\n",
        "              metrics=['accuracy'])\n",
        "model_cnn_to_rnn.summary()\n",
        "\n",
        "history_cnn_to_rnn = model_cnn_to_rnn.fit(X_train, y_train,\n",
        "                    batch_size=512,\n",
        "                    epochs=epochs,\n",
        "                    verbose=1,\n",
        "                    validation_split=0.1)"
      ],
      "execution_count": 30,
      "outputs": [
        {
          "output_type": "stream",
          "name": "stdout",
          "text": [
            "Model: \"model_2\"\n",
            "_________________________________________________________________\n",
            " Layer (type)                Output Shape              Param #   \n",
            "=================================================================\n",
            " input_3 (InputLayer)        [(None, 27)]              0         \n",
            "                                                                 \n",
            " embedding_5 (Embedding)     (None, 27, 32)            8259456   \n",
            "                                                                 \n",
            " conv1d_2 (Conv1D)           (None, 25, 32)            3104      \n",
            "                                                                 \n",
            " global_max_pooling1d_2 (Glo  (None, 1, 32)            0         \n",
            " balMaxPooling1D)                                                \n",
            "                                                                 \n",
            " simple_rnn_2 (SimpleRNN)    (None, 32)                2080      \n",
            "                                                                 \n",
            " dense_10 (Dense)            (None, 10)                330       \n",
            "                                                                 \n",
            " dropout_4 (Dropout)         (None, 10)                0         \n",
            "                                                                 \n",
            " dense_11 (Dense)            (None, 1)                 11        \n",
            "                                                                 \n",
            "=================================================================\n",
            "Total params: 8,264,981\n",
            "Trainable params: 8,264,981\n",
            "Non-trainable params: 0\n",
            "_________________________________________________________________\n",
            "Epoch 1/5\n",
            "319/319 [==============================] - 34s 103ms/step - loss: 0.5749 - accuracy: 0.6872 - val_loss: 0.4957 - val_accuracy: 0.7528\n",
            "Epoch 2/5\n",
            "319/319 [==============================] - 33s 103ms/step - loss: 0.3342 - accuracy: 0.8653 - val_loss: 0.5256 - val_accuracy: 0.7494\n",
            "Epoch 3/5\n",
            "319/319 [==============================] - 33s 103ms/step - loss: 0.1273 - accuracy: 0.9577 - val_loss: 0.6997 - val_accuracy: 0.7326\n",
            "Epoch 4/5\n",
            "319/319 [==============================] - 33s 103ms/step - loss: 0.0506 - accuracy: 0.9853 - val_loss: 0.9229 - val_accuracy: 0.7298\n",
            "Epoch 5/5\n",
            "319/319 [==============================] - 33s 103ms/step - loss: 0.0246 - accuracy: 0.9937 - val_loss: 1.1180 - val_accuracy: 0.7238\n"
          ]
        }
      ]
    },
    {
      "cell_type": "code",
      "metadata": {
        "colab": {
          "base_uri": "https://localhost:8080/"
        },
        "id": "u3k4rO8pKGyV",
        "outputId": "2749719a-e054-4650-da3b-c2023dfeb90a"
      },
      "source": [
        "score_cnn_to_rnn = model_cnn_to_rnn.evaluate(X_valid, y_val, batch_size=512, verbose=1)\n",
        "print('\\n')\n",
        "print('Test score:', score_cnn_to_rnn[0])\n",
        "print('Test accuracy:', score_cnn_to_rnn[1])"
      ],
      "execution_count": 31,
      "outputs": [
        {
          "output_type": "stream",
          "name": "stdout",
          "text": [
            "45/45 [==============================] - 0s 6ms/step - loss: 1.2424 - accuracy: 0.7180\n",
            "\n",
            "\n",
            "Test score: 1.2423659563064575\n",
            "Test accuracy: 0.7179826498031616\n"
          ]
        }
      ]
    },
    {
      "cell_type": "code",
      "metadata": {
        "id": "0t0tVT7DKG9m"
      },
      "source": [
        "models_results['approach'].append('CNN->RNN')\n",
        "models_results['Test_loss'].append(score_cnn_to_rnn[0])\n",
        "models_results['Test_accuracy'].append(score_cnn_to_rnn[1])"
      ],
      "execution_count": 32,
      "outputs": []
    },
    {
      "cell_type": "markdown",
      "metadata": {
        "id": "6wFodJq2O9HA"
      },
      "source": [
        "### CNN+SimpleRNN"
      ]
    },
    {
      "cell_type": "code",
      "metadata": {
        "colab": {
          "base_uri": "https://localhost:8080/"
        },
        "id": "raql1NzHO6Oe",
        "outputId": "388e6770-9df2-4f55-d43d-adcd89d5a545"
      },
      "source": [
        "input = tf.keras.Input(shape=(training_length))\n",
        "emb = Embedding(input_dim=word_count, output_dim=32, input_length=training_length)(input)\n",
        "conv_1 = Conv1D(32, 3, activation='relu')(emb)\n",
        "glob_max_pool = GlobalMaxPool1D()(conv_1)\n",
        "\n",
        "rnn = SimpleRNN(32, recurrent_dropout=0.2)(emb)\n",
        "\n",
        "concat = Concatenate(   )([glob_max_pool, rnn])\n",
        "dens = Dense(10, activation='relu')(concat)\n",
        "dens = Dropout(0.25)(dens)\n",
        "output = Dense(1,activation='sigmoid' )(dens)\n",
        "\n",
        "model_cnn_rnn = Model(inputs=input, outputs=output)\n",
        "\n",
        "model_cnn_rnn.compile(loss='binary_crossentropy',\n",
        "              optimizer='adam',\n",
        "              metrics=['accuracy'])\n",
        "model_cnn_rnn.summary()\n",
        "\n",
        "history_cnn_rnn = model_cnn_rnn.fit(X_train, y_train,\n",
        "                    batch_size=512,\n",
        "                    epochs=epochs,\n",
        "                    verbose=1,\n",
        "                    validation_split=0.1)"
      ],
      "execution_count": 33,
      "outputs": [
        {
          "output_type": "stream",
          "name": "stdout",
          "text": [
            "Model: \"model_3\"\n",
            "__________________________________________________________________________________________________\n",
            " Layer (type)                   Output Shape         Param #     Connected to                     \n",
            "==================================================================================================\n",
            " input_4 (InputLayer)           [(None, 27)]         0           []                               \n",
            "                                                                                                  \n",
            " embedding_6 (Embedding)        (None, 27, 32)       8259456     ['input_4[0][0]']                \n",
            "                                                                                                  \n",
            " conv1d_3 (Conv1D)              (None, 25, 32)       3104        ['embedding_6[0][0]']            \n",
            "                                                                                                  \n",
            " global_max_pooling1d_3 (Global  (None, 32)          0           ['conv1d_3[0][0]']               \n",
            " MaxPooling1D)                                                                                    \n",
            "                                                                                                  \n",
            " simple_rnn_3 (SimpleRNN)       (None, 32)           2080        ['embedding_6[0][0]']            \n",
            "                                                                                                  \n",
            " concatenate (Concatenate)      (None, 64)           0           ['global_max_pooling1d_3[0][0]', \n",
            "                                                                  'simple_rnn_3[0][0]']           \n",
            "                                                                                                  \n",
            " dense_12 (Dense)               (None, 10)           650         ['concatenate[0][0]']            \n",
            "                                                                                                  \n",
            " dropout_5 (Dropout)            (None, 10)           0           ['dense_12[0][0]']               \n",
            "                                                                                                  \n",
            " dense_13 (Dense)               (None, 1)            11          ['dropout_5[0][0]']              \n",
            "                                                                                                  \n",
            "==================================================================================================\n",
            "Total params: 8,265,301\n",
            "Trainable params: 8,265,301\n",
            "Non-trainable params: 0\n",
            "__________________________________________________________________________________________________\n",
            "Epoch 1/5\n",
            "319/319 [==============================] - 42s 127ms/step - loss: 0.6101 - accuracy: 0.6344 - val_loss: 0.5035 - val_accuracy: 0.7490\n",
            "Epoch 2/5\n",
            "319/319 [==============================] - 40s 126ms/step - loss: 0.3842 - accuracy: 0.8348 - val_loss: 0.5031 - val_accuracy: 0.7548\n",
            "Epoch 3/5\n",
            "319/319 [==============================] - 40s 127ms/step - loss: 0.1697 - accuracy: 0.9418 - val_loss: 0.6429 - val_accuracy: 0.7378\n",
            "Epoch 4/5\n",
            "319/319 [==============================] - 40s 126ms/step - loss: 0.0804 - accuracy: 0.9755 - val_loss: 0.8141 - val_accuracy: 0.7319\n",
            "Epoch 5/5\n",
            "319/319 [==============================] - 40s 126ms/step - loss: 0.0474 - accuracy: 0.9870 - val_loss: 0.9621 - val_accuracy: 0.7288\n"
          ]
        }
      ]
    },
    {
      "cell_type": "code",
      "metadata": {
        "colab": {
          "base_uri": "https://localhost:8080/"
        },
        "id": "ExpnH6UKXPkc",
        "outputId": "6baa55d8-0f7b-4bcb-eff3-68b81e769168"
      },
      "source": [
        "score_cnn_rnn = model_cnn_rnn.evaluate(X_valid, y_val, batch_size=512, verbose=1)\n",
        "print('\\n')\n",
        "print('Test score:', score_cnn_rnn[0])\n",
        "print('Test accuracy:', score_cnn_rnn[1])"
      ],
      "execution_count": 34,
      "outputs": [
        {
          "output_type": "stream",
          "name": "stdout",
          "text": [
            "45/45 [==============================] - 0s 10ms/step - loss: 1.0737 - accuracy: 0.7211\n",
            "\n",
            "\n",
            "Test score: 1.0737221240997314\n",
            "Test accuracy: 0.7211127281188965\n"
          ]
        }
      ]
    },
    {
      "cell_type": "code",
      "metadata": {
        "id": "2C6VvFaOXPsy"
      },
      "source": [
        "models_results['approach'].append('CNN+RNN')\n",
        "models_results['Test_loss'].append(score_cnn_rnn[0])\n",
        "models_results['Test_accuracy'].append(score_cnn_rnn[1])"
      ],
      "execution_count": 35,
      "outputs": []
    },
    {
      "cell_type": "markdown",
      "metadata": {
        "id": "gDIb5KJBeg2s"
      },
      "source": [
        "### LSTM->CNN"
      ]
    },
    {
      "cell_type": "code",
      "metadata": {
        "colab": {
          "base_uri": "https://localhost:8080/"
        },
        "id": "QRZAeh7RehHc",
        "outputId": "983fb320-f87d-4080-8cdd-cf9a02da4cb5"
      },
      "source": [
        "input = tf.keras.Input(shape=(training_length))\n",
        "emb = Embedding(input_dim=word_count, output_dim=32, input_length=training_length)(input)\n",
        "\n",
        "lstm = LSTM(32, recurrent_dropout=0.2, return_sequences=True)(emb)\n",
        "\n",
        "conv_1 = Conv1D(32, 3, activation='relu')(lstm)\n",
        "glob_max_pool = GlobalMaxPool1D()(conv_1)\n",
        "\n",
        "dens = Dense(10, activation='relu')(glob_max_pool)\n",
        "dens = Dropout(0.25)(dens)\n",
        "output = Dense(1,activation='sigmoid' )(dens)\n",
        "\n",
        "model_lstm_to_cnn = Model(inputs=input, outputs=output)\n",
        "\n",
        "model_lstm_to_cnn.compile(loss='binary_crossentropy',\n",
        "              optimizer='adam',\n",
        "              metrics=['accuracy'])\n",
        "model_lstm_to_cnn.summary()\n",
        "\n",
        "history_lstm_to_cnn = model_lstm_to_cnn.fit(X_train, y_train,\n",
        "                    batch_size=512,\n",
        "                    epochs=epochs,\n",
        "                    verbose=1,\n",
        "                    validation_split=0.1)"
      ],
      "execution_count": 36,
      "outputs": [
        {
          "output_type": "stream",
          "name": "stdout",
          "text": [
            "Model: \"model_4\"\n",
            "_________________________________________________________________\n",
            " Layer (type)                Output Shape              Param #   \n",
            "=================================================================\n",
            " input_5 (InputLayer)        [(None, 27)]              0         \n",
            "                                                                 \n",
            " embedding_7 (Embedding)     (None, 27, 32)            8259456   \n",
            "                                                                 \n",
            " lstm_1 (LSTM)               (None, 27, 32)            8320      \n",
            "                                                                 \n",
            " conv1d_4 (Conv1D)           (None, 25, 32)            3104      \n",
            "                                                                 \n",
            " global_max_pooling1d_4 (Glo  (None, 32)               0         \n",
            " balMaxPooling1D)                                                \n",
            "                                                                 \n",
            " dense_14 (Dense)            (None, 10)                330       \n",
            "                                                                 \n",
            " dropout_6 (Dropout)         (None, 10)                0         \n",
            "                                                                 \n",
            " dense_15 (Dense)            (None, 1)                 11        \n",
            "                                                                 \n",
            "=================================================================\n",
            "Total params: 8,271,221\n",
            "Trainable params: 8,271,221\n",
            "Non-trainable params: 0\n",
            "_________________________________________________________________\n",
            "Epoch 1/5\n",
            "319/319 [==============================] - 59s 177ms/step - loss: 0.5823 - accuracy: 0.6817 - val_loss: 0.5038 - val_accuracy: 0.7473\n",
            "Epoch 2/5\n",
            "319/319 [==============================] - 56s 177ms/step - loss: 0.3621 - accuracy: 0.8515 - val_loss: 0.5247 - val_accuracy: 0.7443\n",
            "Epoch 3/5\n",
            "319/319 [==============================] - 56s 176ms/step - loss: 0.1971 - accuracy: 0.9289 - val_loss: 0.6626 - val_accuracy: 0.7329\n",
            "Epoch 4/5\n",
            "319/319 [==============================] - 56s 177ms/step - loss: 0.1293 - accuracy: 0.9561 - val_loss: 0.7551 - val_accuracy: 0.7287\n",
            "Epoch 5/5\n",
            "319/319 [==============================] - 56s 177ms/step - loss: 0.0939 - accuracy: 0.9691 - val_loss: 0.8963 - val_accuracy: 0.7258\n"
          ]
        }
      ]
    },
    {
      "cell_type": "code",
      "metadata": {
        "colab": {
          "base_uri": "https://localhost:8080/"
        },
        "id": "UFDYz2YeehRQ",
        "outputId": "705b1d8a-650d-42e6-e983-ecebe6b795ef"
      },
      "source": [
        "score_lstm_to_cnn = model_lstm_to_cnn.evaluate(X_valid, y_val, batch_size=512, verbose=1)\n",
        "print('\\n')\n",
        "print('Test score:', score_lstm_to_cnn[0])\n",
        "print('Test accuracy:', score_lstm_to_cnn[1])"
      ],
      "execution_count": 37,
      "outputs": [
        {
          "output_type": "stream",
          "name": "stdout",
          "text": [
            "45/45 [==============================] - 1s 19ms/step - loss: 0.9913 - accuracy: 0.7169\n",
            "\n",
            "\n",
            "Test score: 0.991269588470459\n",
            "Test accuracy: 0.7168805003166199\n"
          ]
        }
      ]
    },
    {
      "cell_type": "code",
      "metadata": {
        "id": "Z5bzdvsTehfj"
      },
      "source": [
        "models_results['approach'].append('LSTM->CNN')\n",
        "models_results['Test_loss'].append(score_lstm_to_cnn[0])\n",
        "models_results['Test_accuracy'].append(score_lstm_to_cnn[1])"
      ],
      "execution_count": 38,
      "outputs": []
    },
    {
      "cell_type": "markdown",
      "metadata": {
        "id": "yW2yvxMWXh5g"
      },
      "source": [
        "### CNN->LSTM"
      ]
    },
    {
      "cell_type": "code",
      "metadata": {
        "colab": {
          "base_uri": "https://localhost:8080/"
        },
        "id": "pr7_KR30QFdb",
        "outputId": "3538eced-8037-40d7-dea9-9d0b54942059"
      },
      "source": [
        "input = tf.keras.Input(shape=(training_length))\n",
        "emb = Embedding(input_dim=word_count, output_dim=32, input_length=training_length)(input)\n",
        "conv_1 = Conv1D(32, 3, activation='relu')(emb)\n",
        "glob_max_pool = GlobalMaxPool1D(keepdims=True)(conv_1)\n",
        "\n",
        "lstm = LSTM(32, recurrent_dropout=0.2)(glob_max_pool)\n",
        "\n",
        "dens = Dense(10, activation='relu')(lstm)\n",
        "dens = Dropout(0.25)(dens)\n",
        "output = Dense(1,activation='sigmoid' )(dens)\n",
        "\n",
        "model_cnn_to_lstm = Model(inputs=input, outputs=output)\n",
        "\n",
        "model_cnn_to_lstm.compile(loss='binary_crossentropy',\n",
        "              optimizer='adam',\n",
        "              metrics=['accuracy'])\n",
        "model_cnn_to_lstm.summary()\n",
        "\n",
        "history_cnn_to_lstm = model_cnn_to_lstm.fit(X_train, y_train,\n",
        "                    batch_size=512,\n",
        "                    epochs=epochs,\n",
        "                    verbose=1,\n",
        "                    validation_split=0.1)"
      ],
      "execution_count": 39,
      "outputs": [
        {
          "output_type": "stream",
          "name": "stdout",
          "text": [
            "Model: \"model_5\"\n",
            "_________________________________________________________________\n",
            " Layer (type)                Output Shape              Param #   \n",
            "=================================================================\n",
            " input_6 (InputLayer)        [(None, 27)]              0         \n",
            "                                                                 \n",
            " embedding_8 (Embedding)     (None, 27, 32)            8259456   \n",
            "                                                                 \n",
            " conv1d_5 (Conv1D)           (None, 25, 32)            3104      \n",
            "                                                                 \n",
            " global_max_pooling1d_5 (Glo  (None, 1, 32)            0         \n",
            " balMaxPooling1D)                                                \n",
            "                                                                 \n",
            " lstm_2 (LSTM)               (None, 32)                8320      \n",
            "                                                                 \n",
            " dense_16 (Dense)            (None, 10)                330       \n",
            "                                                                 \n",
            " dropout_7 (Dropout)         (None, 10)                0         \n",
            "                                                                 \n",
            " dense_17 (Dense)            (None, 1)                 11        \n",
            "                                                                 \n",
            "=================================================================\n",
            "Total params: 8,271,221\n",
            "Trainable params: 8,271,221\n",
            "Non-trainable params: 0\n",
            "_________________________________________________________________\n",
            "Epoch 1/5\n",
            "319/319 [==============================] - 36s 106ms/step - loss: 0.5874 - accuracy: 0.6695 - val_loss: 0.4991 - val_accuracy: 0.7488\n",
            "Epoch 2/5\n",
            "319/319 [==============================] - 33s 104ms/step - loss: 0.3577 - accuracy: 0.8533 - val_loss: 0.5268 - val_accuracy: 0.7503\n",
            "Epoch 3/5\n",
            "319/319 [==============================] - 33s 104ms/step - loss: 0.1569 - accuracy: 0.9466 - val_loss: 0.6769 - val_accuracy: 0.7389\n",
            "Epoch 4/5\n",
            "319/319 [==============================] - 33s 104ms/step - loss: 0.0768 - accuracy: 0.9772 - val_loss: 0.8819 - val_accuracy: 0.7261\n",
            "Epoch 5/5\n",
            "319/319 [==============================] - 33s 105ms/step - loss: 0.0441 - accuracy: 0.9878 - val_loss: 1.0859 - val_accuracy: 0.7300\n"
          ]
        }
      ]
    },
    {
      "cell_type": "code",
      "metadata": {
        "colab": {
          "base_uri": "https://localhost:8080/"
        },
        "id": "9PHgMO09QFnH",
        "outputId": "6e1be37b-ae0e-4e4e-db81-3d1b912bbd8c"
      },
      "source": [
        "score_cnn_to_lstm = model_cnn_to_lstm.evaluate(X_valid, y_val, batch_size=512, verbose=1)\n",
        "print('\\n')\n",
        "print('Test score:', score_cnn_to_lstm[0])\n",
        "print('Test accuracy:', score_cnn_to_lstm[1])"
      ],
      "execution_count": 40,
      "outputs": [
        {
          "output_type": "stream",
          "name": "stdout",
          "text": [
            "45/45 [==============================] - 0s 6ms/step - loss: 1.2951 - accuracy: 0.7100\n",
            "\n",
            "\n",
            "Test score: 1.2951384782791138\n",
            "Test accuracy: 0.7099589705467224\n"
          ]
        }
      ]
    },
    {
      "cell_type": "code",
      "metadata": {
        "id": "ouGfOwIDQF2U"
      },
      "source": [
        "models_results['approach'].append('CNN->LSTM')\n",
        "models_results['Test_loss'].append(score_cnn_to_lstm[0])\n",
        "models_results['Test_accuracy'].append(score_cnn_to_lstm[1])"
      ],
      "execution_count": 41,
      "outputs": []
    },
    {
      "cell_type": "markdown",
      "metadata": {
        "id": "s4aIL61-QGRA"
      },
      "source": [
        "### CNN+LSTM"
      ]
    },
    {
      "cell_type": "code",
      "metadata": {
        "colab": {
          "base_uri": "https://localhost:8080/"
        },
        "id": "90CHu1smXPvz",
        "outputId": "6f69a9c7-feeb-494f-e767-ad435acfc799"
      },
      "source": [
        "input = tf.keras.Input(shape=(training_length))\n",
        "emb = Embedding(input_dim=word_count, output_dim=32, input_length=training_length)(input)\n",
        "conv_1 = Conv1D(32, 3, activation='relu')(emb)\n",
        "glob_max_pool = GlobalMaxPool1D()(conv_1)\n",
        "\n",
        "lstm = LSTM(32, recurrent_dropout=0.2)(emb)\n",
        "\n",
        "concat = Concatenate(   )([glob_max_pool, lstm])\n",
        "dens = Dense(10, activation='relu')(concat)\n",
        "dens = Dropout(0.25)(dens)\n",
        "output = Dense(1,activation='sigmoid' )(dens)\n",
        "\n",
        "model_cnn_lstm = Model(inputs=input, outputs=output)\n",
        "\n",
        "model_cnn_lstm.compile(loss='binary_crossentropy',\n",
        "              optimizer='adam',\n",
        "              metrics=['accuracy'])\n",
        "model_cnn_lstm.summary()\n",
        "\n",
        "history_cnn_lstm = model_cnn_lstm.fit(X_train, y_train,\n",
        "                    batch_size=512,\n",
        "                    epochs=epochs,\n",
        "                    verbose=1,\n",
        "                    validation_split=0.1)\n"
      ],
      "execution_count": 42,
      "outputs": [
        {
          "output_type": "stream",
          "name": "stdout",
          "text": [
            "Model: \"model_6\"\n",
            "__________________________________________________________________________________________________\n",
            " Layer (type)                   Output Shape         Param #     Connected to                     \n",
            "==================================================================================================\n",
            " input_7 (InputLayer)           [(None, 27)]         0           []                               \n",
            "                                                                                                  \n",
            " embedding_9 (Embedding)        (None, 27, 32)       8259456     ['input_7[0][0]']                \n",
            "                                                                                                  \n",
            " conv1d_6 (Conv1D)              (None, 25, 32)       3104        ['embedding_9[0][0]']            \n",
            "                                                                                                  \n",
            " global_max_pooling1d_6 (Global  (None, 32)          0           ['conv1d_6[0][0]']               \n",
            " MaxPooling1D)                                                                                    \n",
            "                                                                                                  \n",
            " lstm_3 (LSTM)                  (None, 32)           8320        ['embedding_9[0][0]']            \n",
            "                                                                                                  \n",
            " concatenate_1 (Concatenate)    (None, 64)           0           ['global_max_pooling1d_6[0][0]', \n",
            "                                                                  'lstm_3[0][0]']                 \n",
            "                                                                                                  \n",
            " dense_18 (Dense)               (None, 10)           650         ['concatenate_1[0][0]']          \n",
            "                                                                                                  \n",
            " dropout_8 (Dropout)            (None, 10)           0           ['dense_18[0][0]']               \n",
            "                                                                                                  \n",
            " dense_19 (Dense)               (None, 1)            11          ['dropout_8[0][0]']              \n",
            "                                                                                                  \n",
            "==================================================================================================\n",
            "Total params: 8,271,541\n",
            "Trainable params: 8,271,541\n",
            "Non-trainable params: 0\n",
            "__________________________________________________________________________________________________\n",
            "Epoch 1/5\n",
            "319/319 [==============================] - 59s 177ms/step - loss: 0.5735 - accuracy: 0.6901 - val_loss: 0.4927 - val_accuracy: 0.7537\n",
            "Epoch 2/5\n",
            "319/319 [==============================] - 56s 175ms/step - loss: 0.3491 - accuracy: 0.8563 - val_loss: 0.5178 - val_accuracy: 0.7460\n",
            "Epoch 3/5\n",
            "319/319 [==============================] - 57s 178ms/step - loss: 0.1705 - accuracy: 0.9403 - val_loss: 0.6458 - val_accuracy: 0.7390\n",
            "Epoch 4/5\n",
            "319/319 [==============================] - 56s 176ms/step - loss: 0.1008 - accuracy: 0.9667 - val_loss: 0.8018 - val_accuracy: 0.7318\n",
            "Epoch 5/5\n",
            "319/319 [==============================] - 56s 174ms/step - loss: 0.0676 - accuracy: 0.9786 - val_loss: 0.9064 - val_accuracy: 0.7276\n"
          ]
        }
      ]
    },
    {
      "cell_type": "code",
      "metadata": {
        "colab": {
          "base_uri": "https://localhost:8080/"
        },
        "id": "oUE7JtEiXPzJ",
        "outputId": "b8771604-077a-4c65-c0fa-4559d327e596"
      },
      "source": [
        "score_cnn_lstm = model_cnn_lstm.evaluate(X_valid, y_val, batch_size=512, verbose=1)\n",
        "print('\\n')\n",
        "print('Test score:', score_cnn_lstm[0])\n",
        "print('Test accuracy:', score_cnn_lstm[1])"
      ],
      "execution_count": 43,
      "outputs": [
        {
          "output_type": "stream",
          "name": "stdout",
          "text": [
            "45/45 [==============================] - 1s 18ms/step - loss: 1.0211 - accuracy: 0.7205\n",
            "\n",
            "\n",
            "Test score: 1.021109938621521\n",
            "Test accuracy: 0.7204955220222473\n"
          ]
        }
      ]
    },
    {
      "cell_type": "code",
      "metadata": {
        "id": "oAnwZfSzO6UP"
      },
      "source": [
        "models_results['approach'].append('CNN+LSTM')\n",
        "models_results['Test_loss'].append(score_cnn_lstm[0])\n",
        "models_results['Test_accuracy'].append(score_cnn_lstm[1])"
      ],
      "execution_count": 44,
      "outputs": []
    },
    {
      "cell_type": "markdown",
      "metadata": {
        "id": "ax54MspGgxSE"
      },
      "source": [
        "### GRU->CNN"
      ]
    },
    {
      "cell_type": "code",
      "metadata": {
        "colab": {
          "base_uri": "https://localhost:8080/"
        },
        "id": "1-dQnQBHgxjK",
        "outputId": "ab5d3ab5-7d1c-4b7d-ee80-bacb1bb75282"
      },
      "source": [
        "input = tf.keras.Input(shape=(training_length))\n",
        "emb = Embedding(input_dim=word_count, output_dim=32, input_length=training_length)(input)\n",
        "\n",
        "gru = GRU(32, recurrent_dropout=0.2, return_sequences=True)(emb)\n",
        "\n",
        "conv_1 = Conv1D(32, 3, activation='relu')(gru)\n",
        "glob_max_pool = GlobalMaxPool1D()(conv_1)\n",
        "\n",
        "dens = Dense(10, activation='relu')(glob_max_pool)\n",
        "dens = Dropout(0.25)(dens)\n",
        "output = Dense(1,activation='sigmoid' )(dens)\n",
        "\n",
        "model_gru_to_cnn = Model(inputs=input, outputs=output)\n",
        "\n",
        "model_gru_to_cnn.compile(loss='binary_crossentropy',\n",
        "              optimizer='adam',\n",
        "              metrics=['accuracy'])\n",
        "model_gru_to_cnn.summary()\n",
        "\n",
        "history_gru_to_cnn = model_gru_to_cnn.fit(X_train, y_train,\n",
        "                    batch_size=512,\n",
        "                    epochs=epochs,\n",
        "                    verbose=1,\n",
        "                    validation_split=0.1)"
      ],
      "execution_count": 45,
      "outputs": [
        {
          "output_type": "stream",
          "name": "stdout",
          "text": [
            "Model: \"model_7\"\n",
            "_________________________________________________________________\n",
            " Layer (type)                Output Shape              Param #   \n",
            "=================================================================\n",
            " input_8 (InputLayer)        [(None, 27)]              0         \n",
            "                                                                 \n",
            " embedding_10 (Embedding)    (None, 27, 32)            8259456   \n",
            "                                                                 \n",
            " gru_1 (GRU)                 (None, 27, 32)            6336      \n",
            "                                                                 \n",
            " conv1d_7 (Conv1D)           (None, 25, 32)            3104      \n",
            "                                                                 \n",
            " global_max_pooling1d_7 (Glo  (None, 32)               0         \n",
            " balMaxPooling1D)                                                \n",
            "                                                                 \n",
            " dense_20 (Dense)            (None, 10)                330       \n",
            "                                                                 \n",
            " dropout_9 (Dropout)         (None, 10)                0         \n",
            "                                                                 \n",
            " dense_21 (Dense)            (None, 1)                 11        \n",
            "                                                                 \n",
            "=================================================================\n",
            "Total params: 8,269,237\n",
            "Trainable params: 8,269,237\n",
            "Non-trainable params: 0\n",
            "_________________________________________________________________\n",
            "Epoch 1/5\n",
            "319/319 [==============================] - 55s 165ms/step - loss: 0.5884 - accuracy: 0.6859 - val_loss: 0.5058 - val_accuracy: 0.7536\n",
            "Epoch 2/5\n",
            "319/319 [==============================] - 52s 164ms/step - loss: 0.3812 - accuracy: 0.8503 - val_loss: 0.5229 - val_accuracy: 0.7472\n",
            "Epoch 3/5\n",
            "319/319 [==============================] - 52s 163ms/step - loss: 0.2236 - accuracy: 0.9290 - val_loss: 0.6093 - val_accuracy: 0.7401\n",
            "Epoch 4/5\n",
            "319/319 [==============================] - 52s 164ms/step - loss: 0.1485 - accuracy: 0.9598 - val_loss: 0.7521 - val_accuracy: 0.7308\n",
            "Epoch 5/5\n",
            "319/319 [==============================] - 52s 164ms/step - loss: 0.1080 - accuracy: 0.9732 - val_loss: 0.8452 - val_accuracy: 0.7278\n"
          ]
        }
      ]
    },
    {
      "cell_type": "code",
      "metadata": {
        "colab": {
          "base_uri": "https://localhost:8080/"
        },
        "id": "2a-fw14FgxuV",
        "outputId": "e1eca55b-fb8d-456b-e8f0-96d701bb7692"
      },
      "source": [
        "score_gru_to_cnn = model_gru_to_cnn.evaluate(X_valid, y_val, batch_size=512, verbose=1)\n",
        "print('\\n')\n",
        "print('Test score:', score_gru_to_cnn[0])\n",
        "print('Test accuracy:', score_gru_to_cnn[1])"
      ],
      "execution_count": 46,
      "outputs": [
        {
          "output_type": "stream",
          "name": "stdout",
          "text": [
            "45/45 [==============================] - 1s 18ms/step - loss: 0.8918 - accuracy: 0.7198\n",
            "\n",
            "\n",
            "Test score: 0.8918284773826599\n",
            "Test accuracy: 0.7198342084884644\n"
          ]
        }
      ]
    },
    {
      "cell_type": "code",
      "metadata": {
        "id": "vk0BXy8Qgx5w"
      },
      "source": [
        "models_results['approach'].append('GRU->CNN')\n",
        "models_results['Test_loss'].append(score_gru_to_cnn[0])\n",
        "models_results['Test_accuracy'].append(score_gru_to_cnn[1])"
      ],
      "execution_count": 47,
      "outputs": []
    },
    {
      "cell_type": "markdown",
      "metadata": {
        "id": "AlbUSFphRH1J"
      },
      "source": [
        "### CNN->GRU"
      ]
    },
    {
      "cell_type": "code",
      "metadata": {
        "colab": {
          "base_uri": "https://localhost:8080/"
        },
        "id": "RIxDuT4tRIH7",
        "outputId": "5c6a7c9a-9adb-4ed9-ef22-a9ec86b5bbf0"
      },
      "source": [
        "input = tf.keras.Input(shape=(training_length))\n",
        "emb = Embedding(input_dim=word_count, output_dim=32, input_length=training_length)(input)\n",
        "conv_1 = Conv1D(32, 3, activation='relu')(emb)\n",
        "glob_max_pool = GlobalMaxPool1D(keepdims=True)(conv_1)\n",
        "\n",
        "gru = GRU(32, recurrent_dropout=0.2)(glob_max_pool)\n",
        "\n",
        "dens = Dense(10, activation='relu')(gru)\n",
        "dens = Dropout(0.25)(dens)\n",
        "output = Dense(1,activation='sigmoid' )(dens)\n",
        "\n",
        "model_cnn_to_gru = Model(inputs=input, outputs=output)\n",
        "\n",
        "model_cnn_to_gru.compile(loss='binary_crossentropy',\n",
        "              optimizer='adam',\n",
        "              metrics=['accuracy'])\n",
        "model_cnn_to_gru.summary()\n",
        "\n",
        "history_cnn_to_gru = model_cnn_to_gru.fit(X_train, y_train,\n",
        "                    batch_size=512,\n",
        "                    epochs=epochs,\n",
        "                    verbose=1,\n",
        "                    validation_split=0.1)"
      ],
      "execution_count": 48,
      "outputs": [
        {
          "output_type": "stream",
          "name": "stdout",
          "text": [
            "Model: \"model_8\"\n",
            "_________________________________________________________________\n",
            " Layer (type)                Output Shape              Param #   \n",
            "=================================================================\n",
            " input_9 (InputLayer)        [(None, 27)]              0         \n",
            "                                                                 \n",
            " embedding_11 (Embedding)    (None, 27, 32)            8259456   \n",
            "                                                                 \n",
            " conv1d_8 (Conv1D)           (None, 25, 32)            3104      \n",
            "                                                                 \n",
            " global_max_pooling1d_8 (Glo  (None, 1, 32)            0         \n",
            " balMaxPooling1D)                                                \n",
            "                                                                 \n",
            " gru_2 (GRU)                 (None, 32)                6336      \n",
            "                                                                 \n",
            " dense_22 (Dense)            (None, 10)                330       \n",
            "                                                                 \n",
            " dropout_10 (Dropout)        (None, 10)                0         \n",
            "                                                                 \n",
            " dense_23 (Dense)            (None, 1)                 11        \n",
            "                                                                 \n",
            "=================================================================\n",
            "Total params: 8,269,237\n",
            "Trainable params: 8,269,237\n",
            "Non-trainable params: 0\n",
            "_________________________________________________________________\n",
            "Epoch 1/5\n",
            "319/319 [==============================] - 36s 104ms/step - loss: 0.5761 - accuracy: 0.6889 - val_loss: 0.4956 - val_accuracy: 0.7516\n",
            "Epoch 2/5\n",
            "319/319 [==============================] - 33s 104ms/step - loss: 0.3399 - accuracy: 0.8602 - val_loss: 0.5216 - val_accuracy: 0.7472\n",
            "Epoch 3/5\n",
            "319/319 [==============================] - 33s 104ms/step - loss: 0.1477 - accuracy: 0.9483 - val_loss: 0.7050 - val_accuracy: 0.7349\n",
            "Epoch 4/5\n",
            "319/319 [==============================] - 33s 104ms/step - loss: 0.0695 - accuracy: 0.9796 - val_loss: 0.9063 - val_accuracy: 0.7290\n",
            "Epoch 5/5\n",
            "319/319 [==============================] - 33s 104ms/step - loss: 0.0406 - accuracy: 0.9888 - val_loss: 1.0552 - val_accuracy: 0.7251\n"
          ]
        }
      ]
    },
    {
      "cell_type": "code",
      "metadata": {
        "colab": {
          "base_uri": "https://localhost:8080/"
        },
        "id": "mQPAd7qvRITg",
        "outputId": "50047b62-ef08-4050-f711-23e03473fb38"
      },
      "source": [
        "score_cnn_to_gru = model_cnn_to_gru.evaluate(X_valid, y_val, batch_size=512, verbose=1)\n",
        "print('\\n')\n",
        "print('Test score:', score_cnn_to_gru[0])\n",
        "print('Test accuracy:', score_cnn_to_gru[1])"
      ],
      "execution_count": 49,
      "outputs": [
        {
          "output_type": "stream",
          "name": "stdout",
          "text": [
            "45/45 [==============================] - 0s 6ms/step - loss: 1.2421 - accuracy: 0.7096\n",
            "\n",
            "\n",
            "Test score: 1.2421464920043945\n",
            "Test accuracy: 0.7096062898635864\n"
          ]
        }
      ]
    },
    {
      "cell_type": "code",
      "metadata": {
        "id": "EkyMe8xWRIkG"
      },
      "source": [
        "models_results['approach'].append('CNN->GRU')\n",
        "models_results['Test_loss'].append(score_cnn_to_gru[0])\n",
        "models_results['Test_accuracy'].append(score_cnn_to_gru[1])"
      ],
      "execution_count": 50,
      "outputs": []
    },
    {
      "cell_type": "markdown",
      "metadata": {
        "id": "gUqP1faRYqmV"
      },
      "source": [
        "### CNN+GRU"
      ]
    },
    {
      "cell_type": "code",
      "metadata": {
        "colab": {
          "base_uri": "https://localhost:8080/"
        },
        "id": "u2D_EhaEYphp",
        "outputId": "3abf7932-cb67-43df-f09a-454474f47835"
      },
      "source": [
        "input = tf.keras.Input(shape=(training_length))\n",
        "emb = Embedding(input_dim=word_count, output_dim=32, input_length=training_length)(input)\n",
        "conv_1 = Conv1D(32, 3, activation='relu')(emb)\n",
        "glob_max_pool = GlobalMaxPool1D()(conv_1)\n",
        "\n",
        "gru = GRU(32, recurrent_dropout=0.2)(emb)\n",
        "\n",
        "concat = Concatenate(   )([glob_max_pool, gru])\n",
        "dens = Dense(10, activation='relu')(concat)\n",
        "dens = Dropout(0.25)(dens)\n",
        "output = Dense(1,activation='sigmoid' )(dens)\n",
        "\n",
        "model_cnn_gru = Model(inputs=input, outputs=output)\n",
        "\n",
        "model_cnn_gru.compile(loss='binary_crossentropy',\n",
        "              optimizer='adam',\n",
        "              metrics=['accuracy'])\n",
        "model_cnn_gru.summary()\n",
        "\n",
        "history_cnn_gru = model_cnn_gru.fit(X_train, y_train,\n",
        "                    batch_size=512,\n",
        "                    epochs=epochs,\n",
        "                    verbose=1,\n",
        "                    validation_split=0.1)"
      ],
      "execution_count": 51,
      "outputs": [
        {
          "output_type": "stream",
          "name": "stdout",
          "text": [
            "Model: \"model_9\"\n",
            "__________________________________________________________________________________________________\n",
            " Layer (type)                   Output Shape         Param #     Connected to                     \n",
            "==================================================================================================\n",
            " input_10 (InputLayer)          [(None, 27)]         0           []                               \n",
            "                                                                                                  \n",
            " embedding_12 (Embedding)       (None, 27, 32)       8259456     ['input_10[0][0]']               \n",
            "                                                                                                  \n",
            " conv1d_9 (Conv1D)              (None, 25, 32)       3104        ['embedding_12[0][0]']           \n",
            "                                                                                                  \n",
            " global_max_pooling1d_9 (Global  (None, 32)          0           ['conv1d_9[0][0]']               \n",
            " MaxPooling1D)                                                                                    \n",
            "                                                                                                  \n",
            " gru_3 (GRU)                    (None, 32)           6336        ['embedding_12[0][0]']           \n",
            "                                                                                                  \n",
            " concatenate_2 (Concatenate)    (None, 64)           0           ['global_max_pooling1d_9[0][0]', \n",
            "                                                                  'gru_3[0][0]']                  \n",
            "                                                                                                  \n",
            " dense_24 (Dense)               (None, 10)           650         ['concatenate_2[0][0]']          \n",
            "                                                                                                  \n",
            " dropout_11 (Dropout)           (None, 10)           0           ['dense_24[0][0]']               \n",
            "                                                                                                  \n",
            " dense_25 (Dense)               (None, 1)            11          ['dropout_11[0][0]']             \n",
            "                                                                                                  \n",
            "==================================================================================================\n",
            "Total params: 8,269,557\n",
            "Trainable params: 8,269,557\n",
            "Non-trainable params: 0\n",
            "__________________________________________________________________________________________________\n",
            "Epoch 1/5\n",
            "319/319 [==============================] - 55s 166ms/step - loss: 0.5654 - accuracy: 0.7016 - val_loss: 0.4932 - val_accuracy: 0.7528\n",
            "Epoch 2/5\n",
            "319/319 [==============================] - 53s 165ms/step - loss: 0.3371 - accuracy: 0.8629 - val_loss: 0.5292 - val_accuracy: 0.7493\n",
            "Epoch 3/5\n",
            "319/319 [==============================] - 53s 165ms/step - loss: 0.1680 - accuracy: 0.9422 - val_loss: 0.6518 - val_accuracy: 0.7378\n",
            "Epoch 4/5\n",
            "319/319 [==============================] - 52s 164ms/step - loss: 0.1015 - accuracy: 0.9678 - val_loss: 0.7825 - val_accuracy: 0.7330\n",
            "Epoch 5/5\n",
            "319/319 [==============================] - 52s 164ms/step - loss: 0.0677 - accuracy: 0.9798 - val_loss: 0.9397 - val_accuracy: 0.7301\n"
          ]
        }
      ]
    },
    {
      "cell_type": "code",
      "metadata": {
        "colab": {
          "base_uri": "https://localhost:8080/"
        },
        "id": "ds4ZW_YLO6XU",
        "outputId": "dfe2697c-6df9-4489-d32f-f9680e4c5a82"
      },
      "source": [
        "score_cnn_gru = model_cnn_gru.evaluate(X_valid, y_val, batch_size=512, verbose=1)\n",
        "print('\\n')\n",
        "print('Test score:', score_cnn_gru[0])\n",
        "print('Test accuracy:', score_cnn_gru[1])"
      ],
      "execution_count": 52,
      "outputs": [
        {
          "output_type": "stream",
          "name": "stdout",
          "text": [
            "45/45 [==============================] - 1s 18ms/step - loss: 1.0693 - accuracy: 0.7189\n",
            "\n",
            "\n",
            "Test score: 1.0692641735076904\n",
            "Test accuracy: 0.718908429145813\n"
          ]
        }
      ]
    },
    {
      "cell_type": "code",
      "metadata": {
        "id": "p8XQVUZjO6ao"
      },
      "source": [
        "models_results['approach'].append('CNN+GRU')\n",
        "models_results['Test_loss'].append(score_cnn_gru[0])\n",
        "models_results['Test_accuracy'].append(score_cnn_gru[1])"
      ],
      "execution_count": 53,
      "outputs": []
    },
    {
      "cell_type": "markdown",
      "metadata": {
        "id": "PHlGvrUpaZ4R"
      },
      "source": [
        "### CNN->GRU->LSTM->SimpleRNN"
      ]
    },
    {
      "cell_type": "code",
      "metadata": {
        "colab": {
          "base_uri": "https://localhost:8080/"
        },
        "id": "BNkC3etiajfk",
        "outputId": "3884d7b9-05a3-4e3b-eb71-97b3be9090dc"
      },
      "source": [
        "input = tf.keras.Input(shape=(training_length))\n",
        "emb = Embedding(input_dim=word_count, output_dim=32, input_length=training_length)(input)\n",
        "conv_1 = Conv1D(32, 3, activation='relu')(emb)\n",
        "glob_max_pool = GlobalMaxPool1D(keepdims=True)(conv_1)\n",
        "\n",
        "gru = GRU(32, return_sequences=True, recurrent_dropout=0.2)(glob_max_pool)\n",
        "\n",
        "lstm = LSTM(32, return_sequences=True, recurrent_dropout=0.2)(gru)\n",
        "\n",
        "rnn = SimpleRNN(32, recurrent_dropout=0.2)(lstm)\n",
        "\n",
        "dens = Dense(10, activation='relu')(rnn)\n",
        "dens = Dropout(0.25)(dens)\n",
        "output = Dense(1,activation='sigmoid' )(dens)\n",
        "\n",
        "model = Model(inputs=input, outputs=output)\n",
        "\n",
        "model.compile(loss='binary_crossentropy',\n",
        "              optimizer='adam',\n",
        "              metrics=['accuracy'])\n",
        "model.summary()\n",
        "\n",
        "history = model.fit(X_train, y_train,\n",
        "                    batch_size=512,\n",
        "                    epochs=epochs,\n",
        "                    verbose=1,\n",
        "                    validation_split=0.1)"
      ],
      "execution_count": 54,
      "outputs": [
        {
          "output_type": "stream",
          "name": "stdout",
          "text": [
            "Model: \"model_10\"\n",
            "_________________________________________________________________\n",
            " Layer (type)                Output Shape              Param #   \n",
            "=================================================================\n",
            " input_11 (InputLayer)       [(None, 27)]              0         \n",
            "                                                                 \n",
            " embedding_13 (Embedding)    (None, 27, 32)            8259456   \n",
            "                                                                 \n",
            " conv1d_10 (Conv1D)          (None, 25, 32)            3104      \n",
            "                                                                 \n",
            " global_max_pooling1d_10 (Gl  (None, 1, 32)            0         \n",
            " obalMaxPooling1D)                                               \n",
            "                                                                 \n",
            " gru_4 (GRU)                 (None, 1, 32)             6336      \n",
            "                                                                 \n",
            " lstm_4 (LSTM)               (None, 1, 32)             8320      \n",
            "                                                                 \n",
            " simple_rnn_4 (SimpleRNN)    (None, 32)                2080      \n",
            "                                                                 \n",
            " dense_26 (Dense)            (None, 10)                330       \n",
            "                                                                 \n",
            " dropout_12 (Dropout)        (None, 10)                0         \n",
            "                                                                 \n",
            " dense_27 (Dense)            (None, 1)                 11        \n",
            "                                                                 \n",
            "=================================================================\n",
            "Total params: 8,279,637\n",
            "Trainable params: 8,279,637\n",
            "Non-trainable params: 0\n",
            "_________________________________________________________________\n",
            "Epoch 1/5\n",
            "319/319 [==============================] - 41s 111ms/step - loss: 0.5762 - accuracy: 0.6794 - val_loss: 0.4912 - val_accuracy: 0.7543\n",
            "Epoch 2/5\n",
            "319/319 [==============================] - 35s 109ms/step - loss: 0.3164 - accuracy: 0.8710 - val_loss: 0.5378 - val_accuracy: 0.7483\n",
            "Epoch 3/5\n",
            "319/319 [==============================] - 35s 109ms/step - loss: 0.1010 - accuracy: 0.9660 - val_loss: 0.7788 - val_accuracy: 0.7260\n",
            "Epoch 4/5\n",
            "319/319 [==============================] - 35s 109ms/step - loss: 0.0341 - accuracy: 0.9897 - val_loss: 1.0805 - val_accuracy: 0.7186\n",
            "Epoch 5/5\n",
            "319/319 [==============================] - 35s 110ms/step - loss: 0.0150 - accuracy: 0.9958 - val_loss: 1.3408 - val_accuracy: 0.7214\n"
          ]
        }
      ]
    },
    {
      "cell_type": "code",
      "metadata": {
        "colab": {
          "base_uri": "https://localhost:8080/"
        },
        "id": "KoeUfbvLajif",
        "outputId": "5504b38a-1dc4-4635-a0a3-b1247eb397c3"
      },
      "source": [
        "score = model.evaluate(X_valid, y_val, batch_size=512, verbose=1)\n",
        "print('\\n')\n",
        "print('Test score:', score[0])\n",
        "print('Test accuracy:', score[1])"
      ],
      "execution_count": 55,
      "outputs": [
        {
          "output_type": "stream",
          "name": "stdout",
          "text": [
            "45/45 [==============================] - 0s 7ms/step - loss: 1.5295 - accuracy: 0.7156\n",
            "\n",
            "\n",
            "Test score: 1.5294790267944336\n",
            "Test accuracy: 0.7156460881233215\n"
          ]
        }
      ]
    },
    {
      "cell_type": "code",
      "metadata": {
        "id": "hrVUkpLfajlX"
      },
      "source": [
        "models_results['approach'].append('CNN->GRU->LSTM->SimpleRNN')\n",
        "models_results['Test_loss'].append(score_cnn_gru[0])\n",
        "models_results['Test_accuracy'].append(score_cnn_gru[1])"
      ],
      "execution_count": 56,
      "outputs": []
    },
    {
      "cell_type": "markdown",
      "metadata": {
        "id": "94G3AJEBdCby"
      },
      "source": [
        "### 4. сделать выводы что получилось лучше"
      ]
    },
    {
      "cell_type": "code",
      "metadata": {
        "colab": {
          "base_uri": "https://localhost:8080/",
          "height": 488
        },
        "id": "UeRW-TyHajox",
        "outputId": "176770e6-4a60-4c7d-a1d6-39bd7faec3b1"
      },
      "source": [
        "# Итоговая таблица\n",
        "df = pd.DataFrame(data=models_results).sort_values('Test_accuracy', ascending=False)\n",
        "df.head(30)"
      ],
      "execution_count": 57,
      "outputs": [
        {
          "output_type": "execute_result",
          "data": {
            "text/html": [
              "<div>\n",
              "<style scoped>\n",
              "    .dataframe tbody tr th:only-of-type {\n",
              "        vertical-align: middle;\n",
              "    }\n",
              "\n",
              "    .dataframe tbody tr th {\n",
              "        vertical-align: top;\n",
              "    }\n",
              "\n",
              "    .dataframe thead th {\n",
              "        text-align: right;\n",
              "    }\n",
              "</style>\n",
              "<table border=\"1\" class=\"dataframe\">\n",
              "  <thead>\n",
              "    <tr style=\"text-align: right;\">\n",
              "      <th></th>\n",
              "      <th>approach</th>\n",
              "      <th>Test_loss</th>\n",
              "      <th>Test_accuracy</th>\n",
              "    </tr>\n",
              "  </thead>\n",
              "  <tbody>\n",
              "    <tr>\n",
              "      <th>1</th>\n",
              "      <td>SimpleRNN</td>\n",
              "      <td>0.929557</td>\n",
              "      <td>0.722656</td>\n",
              "    </tr>\n",
              "    <tr>\n",
              "      <th>6</th>\n",
              "      <td>CNN+RNN</td>\n",
              "      <td>1.073722</td>\n",
              "      <td>0.721113</td>\n",
              "    </tr>\n",
              "    <tr>\n",
              "      <th>9</th>\n",
              "      <td>CNN+LSTM</td>\n",
              "      <td>1.021110</td>\n",
              "      <td>0.720496</td>\n",
              "    </tr>\n",
              "    <tr>\n",
              "      <th>10</th>\n",
              "      <td>GRU-&gt;CNN</td>\n",
              "      <td>0.891828</td>\n",
              "      <td>0.719834</td>\n",
              "    </tr>\n",
              "    <tr>\n",
              "      <th>4</th>\n",
              "      <td>RNN-&gt;CNN</td>\n",
              "      <td>0.927970</td>\n",
              "      <td>0.719570</td>\n",
              "    </tr>\n",
              "    <tr>\n",
              "      <th>12</th>\n",
              "      <td>CNN+GRU</td>\n",
              "      <td>1.069264</td>\n",
              "      <td>0.718908</td>\n",
              "    </tr>\n",
              "    <tr>\n",
              "      <th>13</th>\n",
              "      <td>CNN-&gt;GRU-&gt;LSTM-&gt;SimpleRNN</td>\n",
              "      <td>1.069264</td>\n",
              "      <td>0.718908</td>\n",
              "    </tr>\n",
              "    <tr>\n",
              "      <th>2</th>\n",
              "      <td>LSTM</td>\n",
              "      <td>1.039670</td>\n",
              "      <td>0.718291</td>\n",
              "    </tr>\n",
              "    <tr>\n",
              "      <th>5</th>\n",
              "      <td>CNN-&gt;RNN</td>\n",
              "      <td>1.242366</td>\n",
              "      <td>0.717983</td>\n",
              "    </tr>\n",
              "    <tr>\n",
              "      <th>0</th>\n",
              "      <td>CNN</td>\n",
              "      <td>1.040194</td>\n",
              "      <td>0.716881</td>\n",
              "    </tr>\n",
              "    <tr>\n",
              "      <th>7</th>\n",
              "      <td>LSTM-&gt;CNN</td>\n",
              "      <td>0.991270</td>\n",
              "      <td>0.716881</td>\n",
              "    </tr>\n",
              "    <tr>\n",
              "      <th>3</th>\n",
              "      <td>GRU</td>\n",
              "      <td>1.039439</td>\n",
              "      <td>0.714191</td>\n",
              "    </tr>\n",
              "    <tr>\n",
              "      <th>8</th>\n",
              "      <td>CNN-&gt;LSTM</td>\n",
              "      <td>1.295138</td>\n",
              "      <td>0.709959</td>\n",
              "    </tr>\n",
              "    <tr>\n",
              "      <th>11</th>\n",
              "      <td>CNN-&gt;GRU</td>\n",
              "      <td>1.242146</td>\n",
              "      <td>0.709606</td>\n",
              "    </tr>\n",
              "  </tbody>\n",
              "</table>\n",
              "</div>"
            ],
            "text/plain": [
              "                     approach  Test_loss  Test_accuracy\n",
              "1                   SimpleRNN   0.929557       0.722656\n",
              "6                     CNN+RNN   1.073722       0.721113\n",
              "9                    CNN+LSTM   1.021110       0.720496\n",
              "10                   GRU->CNN   0.891828       0.719834\n",
              "4                    RNN->CNN   0.927970       0.719570\n",
              "12                    CNN+GRU   1.069264       0.718908\n",
              "13  CNN->GRU->LSTM->SimpleRNN   1.069264       0.718908\n",
              "2                        LSTM   1.039670       0.718291\n",
              "5                    CNN->RNN   1.242366       0.717983\n",
              "0                         CNN   1.040194       0.716881\n",
              "7                   LSTM->CNN   0.991270       0.716881\n",
              "3                         GRU   1.039439       0.714191\n",
              "8                   CNN->LSTM   1.295138       0.709959\n",
              "11                   CNN->GRU   1.242146       0.709606"
            ]
          },
          "metadata": {},
          "execution_count": 57
        }
      ]
    },
    {
      "cell_type": "markdown",
      "metadata": {
        "id": "W5GRb5qw8g13"
      },
      "source": [
        "По итоговой таблице после 5 эпох обучения лучше показала SimpleRNN, но тут идёт явно переобучение."
      ]
    },
    {
      "cell_type": "code",
      "metadata": {
        "colab": {
          "base_uri": "https://localhost:8080/",
          "height": 917
        },
        "id": "-kk4eMFALlyx",
        "outputId": "55f6fb81-2299-434e-f436-b54d530d19a3"
      },
      "source": [
        "fig = go.Figure()\n",
        "fig.add_trace(go.Scattergl(y=history_cnn.history['accuracy'],\n",
        "                    name='cnn'))\n",
        "fig.add_trace(go.Scattergl(y=history_rnn.history['accuracy'],\n",
        "                    name='rnn'))\n",
        "fig.add_trace(go.Scattergl(y=history_lstm.history['accuracy'],\n",
        "                    name='lstm'))\n",
        "fig.add_trace(go.Scattergl(y=history_gru.history['accuracy'],\n",
        "                    name='gru'))\n",
        "fig.add_trace(go.Scattergl(y=history_cnn_gru.history['accuracy'],\n",
        "                    name='cnn+gru'))\n",
        "fig.add_trace(go.Scattergl(y=history_cnn_lstm.history['accuracy'],\n",
        "                    name='cnn+lstm'))\n",
        "fig.add_trace(go.Scattergl(y=history_cnn_rnn.history['accuracy'],\n",
        "                    name='cnn+rnn'))\n",
        "fig.add_trace(go.Scattergl(y=history_cnn_to_gru.history['accuracy'],\n",
        "                    name='cnn->gru'))\n",
        "fig.add_trace(go.Scattergl(y=history_cnn_to_lstm.history['accuracy'],\n",
        "                    name='cnn->lstm'))\n",
        "fig.add_trace(go.Scattergl(y=history_cnn_to_rnn.history['accuracy'],\n",
        "                    name='cnn->rnn'))\n",
        "fig.add_trace(go.Scattergl(y=history_gru_to_cnn.history['accuracy'],\n",
        "                    name='gru->cnn', line_color='black'))\n",
        "fig.add_trace(go.Scattergl(y=history_lstm_to_cnn.history['accuracy'],\n",
        "                    name='lstm->cnn', line_color='brown'))\n",
        "fig.add_trace(go.Scattergl(y=history_rnn_to_cnn.history['accuracy'],\n",
        "                    name='rnn->cnn', line_color='gray'))\n",
        "fig.add_trace(go.Scattergl(y=history.history['accuracy'],\n",
        "                    name='CNN->GRU->LSTM->SimpleRNN', line_color='green'))\n",
        "\n",
        "\n",
        "fig.update_layout(height=900, width=1100,\n",
        "                  xaxis_title='Epoch',\n",
        "                  yaxis_title='Train Accuracy')\n",
        "fig.show()"
      ],
      "execution_count": 74,
      "outputs": [
        {
          "output_type": "display_data",
          "data": {
            "text/html": [
              "<html>\n",
              "<head><meta charset=\"utf-8\" /></head>\n",
              "<body>\n",
              "    <div>\n",
              "            <script src=\"https://cdnjs.cloudflare.com/ajax/libs/mathjax/2.7.5/MathJax.js?config=TeX-AMS-MML_SVG\"></script><script type=\"text/javascript\">if (window.MathJax) {MathJax.Hub.Config({SVG: {font: \"STIX-Web\"}});}</script>\n",
              "                <script type=\"text/javascript\">window.PlotlyConfig = {MathJaxConfig: 'local'};</script>\n",
              "        <script src=\"https://cdn.plot.ly/plotly-latest.min.js\"></script>    \n",
              "            <div id=\"ec5ccefd-ec0b-4797-b2ff-e3620b163fdf\" class=\"plotly-graph-div\" style=\"height:900px; width:1100px;\"></div>\n",
              "            <script type=\"text/javascript\">\n",
              "                \n",
              "                    window.PLOTLYENV=window.PLOTLYENV || {};\n",
              "                    \n",
              "                if (document.getElementById(\"ec5ccefd-ec0b-4797-b2ff-e3620b163fdf\")) {\n",
              "                    Plotly.newPlot(\n",
              "                        'ec5ccefd-ec0b-4797-b2ff-e3620b163fdf',\n",
              "                        [{\"name\": \"cnn\", \"type\": \"scattergl\", \"y\": [0.6954812407493591, 0.8623193502426147, 0.9519103765487671, 0.9807555675506592, 0.9906992316246033]}, {\"name\": \"rnn\", \"type\": \"scattergl\", \"y\": [0.659453809261322, 0.8367315530776978, 0.9269471168518066, 0.9606478214263916, 0.9736774563789368]}, {\"name\": \"lstm\", \"type\": \"scattergl\", \"y\": [0.7044758796691895, 0.8591783046722412, 0.9341537952423096, 0.9601702094078064, 0.9699301719665527]}, {\"name\": \"gru\", \"type\": \"scattergl\", \"y\": [0.705437183380127, 0.8618173003196716, 0.9367009401321411, 0.9621846675872803, 0.9716385006904602]}, {\"name\": \"cnn+gru\", \"type\": \"scattergl\", \"y\": [0.7015674710273743, 0.8629010319709778, 0.9421993494033813, 0.9678484201431274, 0.9798004031181335]}, {\"name\": \"cnn+lstm\", \"type\": \"scattergl\", \"y\": [0.6901359558105469, 0.8562515377998352, 0.9403440952301025, 0.9666666388511658, 0.9786064028739929]}, {\"name\": \"cnn+rnn\", \"type\": \"scattergl\", \"y\": [0.6343803405761719, 0.8347967267036438, 0.9417585134506226, 0.9754775762557983, 0.987037718296051]}, {\"name\": \"cnn->gru\", \"type\": \"scattergl\", \"y\": [0.6889235973358154, 0.8602436780929565, 0.948316216468811, 0.9796167016029358, 0.9887704849243164]}, {\"name\": \"cnn->lstm\", \"type\": \"scattergl\", \"y\": [0.669477105140686, 0.8532757759094238, 0.9466017484664917, 0.9771859049797058, 0.9878459572792053]}, {\"name\": \"cnn->rnn\", \"type\": \"scattergl\", \"y\": [0.6871662735939026, 0.8652951121330261, 0.9576781988143921, 0.9853355288505554, 0.9936627745628357]}, {\"line\": {\"color\": \"black\"}, \"name\": \"gru->cnn\", \"type\": \"scattergl\", \"y\": [0.6858804821968079, 0.8502694368362427, 0.9289615750312805, 0.9597844481468201, 0.9732182025909424]}, {\"line\": {\"color\": \"brown\"}, \"name\": \"lstm->cnn\", \"type\": \"scattergl\", \"y\": [0.6816985011100769, 0.8514511585235596, 0.9288758039474487, 0.9560617208480835, 0.969140350818634]}, {\"line\": {\"color\": \"gray\"}, \"name\": \"rnn->cnn\", \"type\": \"scattergl\", \"y\": [0.6444587111473083, 0.8274981379508972, 0.9214242100715637, 0.9596987366676331, 0.9753122925758362]}, {\"line\": {\"color\": \"green\"}, \"name\": \"CNN->GRU->LSTM->SimpleRNN\", \"type\": \"scattergl\", \"y\": [0.6794146299362183, 0.8710262179374695, 0.9659992456436157, 0.9896828532218933, 0.995818018913269]}],\n",
              "                        {\"height\": 900, \"template\": {\"data\": {\"bar\": [{\"error_x\": {\"color\": \"#2a3f5f\"}, \"error_y\": {\"color\": \"#2a3f5f\"}, \"marker\": {\"line\": {\"color\": \"#E5ECF6\", \"width\": 0.5}}, \"type\": \"bar\"}], \"barpolar\": [{\"marker\": {\"line\": {\"color\": \"#E5ECF6\", \"width\": 0.5}}, \"type\": \"barpolar\"}], \"carpet\": [{\"aaxis\": {\"endlinecolor\": \"#2a3f5f\", \"gridcolor\": \"white\", \"linecolor\": \"white\", \"minorgridcolor\": \"white\", \"startlinecolor\": \"#2a3f5f\"}, \"baxis\": {\"endlinecolor\": \"#2a3f5f\", \"gridcolor\": \"white\", \"linecolor\": \"white\", \"minorgridcolor\": \"white\", \"startlinecolor\": \"#2a3f5f\"}, \"type\": \"carpet\"}], \"choropleth\": [{\"colorbar\": {\"outlinewidth\": 0, \"ticks\": \"\"}, \"type\": \"choropleth\"}], \"contour\": [{\"colorbar\": {\"outlinewidth\": 0, \"ticks\": \"\"}, \"colorscale\": [[0.0, \"#0d0887\"], [0.1111111111111111, \"#46039f\"], [0.2222222222222222, \"#7201a8\"], [0.3333333333333333, \"#9c179e\"], [0.4444444444444444, \"#bd3786\"], [0.5555555555555556, \"#d8576b\"], [0.6666666666666666, \"#ed7953\"], [0.7777777777777778, \"#fb9f3a\"], [0.8888888888888888, \"#fdca26\"], [1.0, \"#f0f921\"]], \"type\": \"contour\"}], \"contourcarpet\": [{\"colorbar\": {\"outlinewidth\": 0, \"ticks\": \"\"}, \"type\": \"contourcarpet\"}], \"heatmap\": [{\"colorbar\": {\"outlinewidth\": 0, \"ticks\": \"\"}, \"colorscale\": [[0.0, \"#0d0887\"], [0.1111111111111111, \"#46039f\"], [0.2222222222222222, \"#7201a8\"], [0.3333333333333333, \"#9c179e\"], [0.4444444444444444, \"#bd3786\"], [0.5555555555555556, \"#d8576b\"], [0.6666666666666666, \"#ed7953\"], [0.7777777777777778, \"#fb9f3a\"], [0.8888888888888888, \"#fdca26\"], [1.0, \"#f0f921\"]], \"type\": \"heatmap\"}], \"heatmapgl\": [{\"colorbar\": {\"outlinewidth\": 0, \"ticks\": \"\"}, \"colorscale\": [[0.0, \"#0d0887\"], [0.1111111111111111, \"#46039f\"], [0.2222222222222222, \"#7201a8\"], [0.3333333333333333, \"#9c179e\"], [0.4444444444444444, \"#bd3786\"], [0.5555555555555556, \"#d8576b\"], [0.6666666666666666, \"#ed7953\"], [0.7777777777777778, \"#fb9f3a\"], [0.8888888888888888, \"#fdca26\"], [1.0, \"#f0f921\"]], \"type\": \"heatmapgl\"}], \"histogram\": [{\"marker\": {\"colorbar\": {\"outlinewidth\": 0, \"ticks\": \"\"}}, \"type\": \"histogram\"}], \"histogram2d\": [{\"colorbar\": {\"outlinewidth\": 0, \"ticks\": \"\"}, \"colorscale\": [[0.0, \"#0d0887\"], [0.1111111111111111, \"#46039f\"], [0.2222222222222222, \"#7201a8\"], [0.3333333333333333, \"#9c179e\"], [0.4444444444444444, \"#bd3786\"], [0.5555555555555556, \"#d8576b\"], [0.6666666666666666, \"#ed7953\"], [0.7777777777777778, \"#fb9f3a\"], [0.8888888888888888, \"#fdca26\"], [1.0, \"#f0f921\"]], \"type\": \"histogram2d\"}], \"histogram2dcontour\": [{\"colorbar\": {\"outlinewidth\": 0, \"ticks\": \"\"}, \"colorscale\": [[0.0, \"#0d0887\"], [0.1111111111111111, \"#46039f\"], [0.2222222222222222, \"#7201a8\"], [0.3333333333333333, \"#9c179e\"], [0.4444444444444444, \"#bd3786\"], [0.5555555555555556, \"#d8576b\"], [0.6666666666666666, \"#ed7953\"], [0.7777777777777778, \"#fb9f3a\"], [0.8888888888888888, \"#fdca26\"], [1.0, \"#f0f921\"]], \"type\": \"histogram2dcontour\"}], \"mesh3d\": [{\"colorbar\": {\"outlinewidth\": 0, \"ticks\": \"\"}, \"type\": \"mesh3d\"}], \"parcoords\": [{\"line\": {\"colorbar\": {\"outlinewidth\": 0, \"ticks\": \"\"}}, \"type\": \"parcoords\"}], \"pie\": [{\"automargin\": true, \"type\": \"pie\"}], \"scatter\": [{\"marker\": {\"colorbar\": {\"outlinewidth\": 0, \"ticks\": \"\"}}, \"type\": \"scatter\"}], \"scatter3d\": [{\"line\": {\"colorbar\": {\"outlinewidth\": 0, \"ticks\": \"\"}}, \"marker\": {\"colorbar\": {\"outlinewidth\": 0, \"ticks\": \"\"}}, \"type\": \"scatter3d\"}], \"scattercarpet\": [{\"marker\": {\"colorbar\": {\"outlinewidth\": 0, \"ticks\": \"\"}}, \"type\": \"scattercarpet\"}], \"scattergeo\": [{\"marker\": {\"colorbar\": {\"outlinewidth\": 0, \"ticks\": \"\"}}, \"type\": \"scattergeo\"}], \"scattergl\": [{\"marker\": {\"colorbar\": {\"outlinewidth\": 0, \"ticks\": \"\"}}, \"type\": \"scattergl\"}], \"scattermapbox\": [{\"marker\": {\"colorbar\": {\"outlinewidth\": 0, \"ticks\": \"\"}}, \"type\": \"scattermapbox\"}], \"scatterpolar\": [{\"marker\": {\"colorbar\": {\"outlinewidth\": 0, \"ticks\": \"\"}}, \"type\": \"scatterpolar\"}], \"scatterpolargl\": [{\"marker\": {\"colorbar\": {\"outlinewidth\": 0, \"ticks\": \"\"}}, \"type\": \"scatterpolargl\"}], \"scatterternary\": [{\"marker\": {\"colorbar\": {\"outlinewidth\": 0, \"ticks\": \"\"}}, \"type\": \"scatterternary\"}], \"surface\": [{\"colorbar\": {\"outlinewidth\": 0, \"ticks\": \"\"}, \"colorscale\": [[0.0, \"#0d0887\"], [0.1111111111111111, \"#46039f\"], [0.2222222222222222, \"#7201a8\"], [0.3333333333333333, \"#9c179e\"], [0.4444444444444444, \"#bd3786\"], [0.5555555555555556, \"#d8576b\"], [0.6666666666666666, \"#ed7953\"], [0.7777777777777778, \"#fb9f3a\"], [0.8888888888888888, \"#fdca26\"], [1.0, \"#f0f921\"]], \"type\": \"surface\"}], \"table\": [{\"cells\": {\"fill\": {\"color\": \"#EBF0F8\"}, \"line\": {\"color\": \"white\"}}, \"header\": {\"fill\": {\"color\": \"#C8D4E3\"}, \"line\": {\"color\": \"white\"}}, \"type\": \"table\"}]}, \"layout\": {\"annotationdefaults\": {\"arrowcolor\": \"#2a3f5f\", \"arrowhead\": 0, \"arrowwidth\": 1}, \"coloraxis\": {\"colorbar\": {\"outlinewidth\": 0, \"ticks\": \"\"}}, \"colorscale\": {\"diverging\": [[0, \"#8e0152\"], [0.1, \"#c51b7d\"], [0.2, \"#de77ae\"], [0.3, \"#f1b6da\"], [0.4, \"#fde0ef\"], [0.5, \"#f7f7f7\"], [0.6, \"#e6f5d0\"], [0.7, \"#b8e186\"], [0.8, \"#7fbc41\"], [0.9, \"#4d9221\"], [1, \"#276419\"]], \"sequential\": [[0.0, \"#0d0887\"], [0.1111111111111111, \"#46039f\"], [0.2222222222222222, \"#7201a8\"], [0.3333333333333333, \"#9c179e\"], [0.4444444444444444, \"#bd3786\"], [0.5555555555555556, \"#d8576b\"], [0.6666666666666666, \"#ed7953\"], [0.7777777777777778, \"#fb9f3a\"], [0.8888888888888888, \"#fdca26\"], [1.0, \"#f0f921\"]], \"sequentialminus\": [[0.0, \"#0d0887\"], [0.1111111111111111, \"#46039f\"], [0.2222222222222222, \"#7201a8\"], [0.3333333333333333, \"#9c179e\"], [0.4444444444444444, \"#bd3786\"], [0.5555555555555556, \"#d8576b\"], [0.6666666666666666, \"#ed7953\"], [0.7777777777777778, \"#fb9f3a\"], [0.8888888888888888, \"#fdca26\"], [1.0, \"#f0f921\"]]}, \"colorway\": [\"#636efa\", \"#EF553B\", \"#00cc96\", \"#ab63fa\", \"#FFA15A\", \"#19d3f3\", \"#FF6692\", \"#B6E880\", \"#FF97FF\", \"#FECB52\"], \"font\": {\"color\": \"#2a3f5f\"}, \"geo\": {\"bgcolor\": \"white\", \"lakecolor\": \"white\", \"landcolor\": \"#E5ECF6\", \"showlakes\": true, \"showland\": true, \"subunitcolor\": \"white\"}, \"hoverlabel\": {\"align\": \"left\"}, \"hovermode\": \"closest\", \"mapbox\": {\"style\": \"light\"}, \"paper_bgcolor\": \"white\", \"plot_bgcolor\": \"#E5ECF6\", \"polar\": {\"angularaxis\": {\"gridcolor\": \"white\", \"linecolor\": \"white\", \"ticks\": \"\"}, \"bgcolor\": \"#E5ECF6\", \"radialaxis\": {\"gridcolor\": \"white\", \"linecolor\": \"white\", \"ticks\": \"\"}}, \"scene\": {\"xaxis\": {\"backgroundcolor\": \"#E5ECF6\", \"gridcolor\": \"white\", \"gridwidth\": 2, \"linecolor\": \"white\", \"showbackground\": true, \"ticks\": \"\", \"zerolinecolor\": \"white\"}, \"yaxis\": {\"backgroundcolor\": \"#E5ECF6\", \"gridcolor\": \"white\", \"gridwidth\": 2, \"linecolor\": \"white\", \"showbackground\": true, \"ticks\": \"\", \"zerolinecolor\": \"white\"}, \"zaxis\": {\"backgroundcolor\": \"#E5ECF6\", \"gridcolor\": \"white\", \"gridwidth\": 2, \"linecolor\": \"white\", \"showbackground\": true, \"ticks\": \"\", \"zerolinecolor\": \"white\"}}, \"shapedefaults\": {\"line\": {\"color\": \"#2a3f5f\"}}, \"ternary\": {\"aaxis\": {\"gridcolor\": \"white\", \"linecolor\": \"white\", \"ticks\": \"\"}, \"baxis\": {\"gridcolor\": \"white\", \"linecolor\": \"white\", \"ticks\": \"\"}, \"bgcolor\": \"#E5ECF6\", \"caxis\": {\"gridcolor\": \"white\", \"linecolor\": \"white\", \"ticks\": \"\"}}, \"title\": {\"x\": 0.05}, \"xaxis\": {\"automargin\": true, \"gridcolor\": \"white\", \"linecolor\": \"white\", \"ticks\": \"\", \"title\": {\"standoff\": 15}, \"zerolinecolor\": \"white\", \"zerolinewidth\": 2}, \"yaxis\": {\"automargin\": true, \"gridcolor\": \"white\", \"linecolor\": \"white\", \"ticks\": \"\", \"title\": {\"standoff\": 15}, \"zerolinecolor\": \"white\", \"zerolinewidth\": 2}}}, \"width\": 1100, \"xaxis\": {\"title\": {\"text\": \"Epoch\"}}, \"yaxis\": {\"title\": {\"text\": \"Train Accuracy\"}}},\n",
              "                        {\"responsive\": true}\n",
              "                    ).then(function(){\n",
              "                            \n",
              "var gd = document.getElementById('ec5ccefd-ec0b-4797-b2ff-e3620b163fdf');\n",
              "var x = new MutationObserver(function (mutations, observer) {{\n",
              "        var display = window.getComputedStyle(gd).display;\n",
              "        if (!display || display === 'none') {{\n",
              "            console.log([gd, 'removed!']);\n",
              "            Plotly.purge(gd);\n",
              "            observer.disconnect();\n",
              "        }}\n",
              "}});\n",
              "\n",
              "// Listen for the removal of the full notebook cells\n",
              "var notebookContainer = gd.closest('#notebook-container');\n",
              "if (notebookContainer) {{\n",
              "    x.observe(notebookContainer, {childList: true});\n",
              "}}\n",
              "\n",
              "// Listen for the clearing of the current output cell\n",
              "var outputEl = gd.closest('.output');\n",
              "if (outputEl) {{\n",
              "    x.observe(outputEl, {childList: true});\n",
              "}}\n",
              "\n",
              "                        })\n",
              "                };\n",
              "                \n",
              "            </script>\n",
              "        </div>\n",
              "</body>\n",
              "</html>"
            ]
          },
          "metadata": {}
        }
      ]
    },
    {
      "cell_type": "markdown",
      "metadata": {
        "id": "YICmz7au8r8E"
      },
      "source": [
        "Из графиков выше видно, что быстрее всех переобучаются CNN->GRU->LSTM->SimpleRNN, CNN->RNN"
      ]
    },
    {
      "cell_type": "code",
      "metadata": {
        "colab": {
          "base_uri": "https://localhost:8080/",
          "height": 917
        },
        "id": "gUPfW2ReTthz",
        "outputId": "621f4217-9a21-479d-9b5d-ce964fadf52c"
      },
      "source": [
        "fig = go.Figure()\n",
        "fig.add_trace(go.Scattergl(y=history_cnn.history['val_accuracy'],\n",
        "                    name='cnn'))\n",
        "fig.add_trace(go.Scattergl(y=history_rnn.history['val_accuracy'],\n",
        "                    name='rnn'))\n",
        "fig.add_trace(go.Scattergl(y=history_lstm.history['val_accuracy'],\n",
        "                    name='lstm'))\n",
        "fig.add_trace(go.Scattergl(y=history_gru.history['val_accuracy'],\n",
        "                    name='gru'))\n",
        "fig.add_trace(go.Scattergl(y=history_cnn_gru.history['val_accuracy'],\n",
        "                    name='cnn+gru'))\n",
        "fig.add_trace(go.Scattergl(y=history_cnn_lstm.history['val_accuracy'],\n",
        "                    name='cnn+lstm'))\n",
        "fig.add_trace(go.Scattergl(y=history_cnn_rnn.history['val_accuracy'],\n",
        "                    name='cnn+rnn'))\n",
        "fig.add_trace(go.Scattergl(y=history_cnn_to_gru.history['val_accuracy'],\n",
        "                    name='cnn->gru'))\n",
        "fig.add_trace(go.Scattergl(y=history_cnn_to_lstm.history['val_accuracy'],\n",
        "                    name='cnn->lstm'))\n",
        "fig.add_trace(go.Scattergl(y=history_cnn_to_rnn.history['val_accuracy'],\n",
        "                    name='cnn->rnn'))\n",
        "fig.add_trace(go.Scattergl(y=history_gru_to_cnn.history['val_accuracy'],\n",
        "                    name='gru->cnn', line_color='black'))\n",
        "fig.add_trace(go.Scattergl(y=history_lstm_to_cnn.history['val_accuracy'],\n",
        "                    name='lstm->cnn', line_color='brown'))\n",
        "fig.add_trace(go.Scattergl(y=history_rnn_to_cnn.history['val_accuracy'],\n",
        "                    name='rnn->cnn', line_color='gray'))\n",
        "fig.add_trace(go.Scattergl(y=history.history['val_accuracy'],\n",
        "                    name='CNN->GRU->LSTM->SimpleRNN', line_color='green'))\n",
        "\n",
        "\n",
        "fig.update_layout(height=900, width=1100,\n",
        "                  xaxis_title='Epoch',\n",
        "                  yaxis_title='Val Accuracy')\n",
        "fig.show()"
      ],
      "execution_count": 73,
      "outputs": [
        {
          "output_type": "display_data",
          "data": {
            "text/html": [
              "<html>\n",
              "<head><meta charset=\"utf-8\" /></head>\n",
              "<body>\n",
              "    <div>\n",
              "            <script src=\"https://cdnjs.cloudflare.com/ajax/libs/mathjax/2.7.5/MathJax.js?config=TeX-AMS-MML_SVG\"></script><script type=\"text/javascript\">if (window.MathJax) {MathJax.Hub.Config({SVG: {font: \"STIX-Web\"}});}</script>\n",
              "                <script type=\"text/javascript\">window.PlotlyConfig = {MathJaxConfig: 'local'};</script>\n",
              "        <script src=\"https://cdn.plot.ly/plotly-latest.min.js\"></script>    \n",
              "            <div id=\"6b1af59b-a52c-4e98-9e5e-ac0217834133\" class=\"plotly-graph-div\" style=\"height:900px; width:1100px;\"></div>\n",
              "            <script type=\"text/javascript\">\n",
              "                \n",
              "                    window.PLOTLYENV=window.PLOTLYENV || {};\n",
              "                    \n",
              "                if (document.getElementById(\"6b1af59b-a52c-4e98-9e5e-ac0217834133\")) {\n",
              "                    Plotly.newPlot(\n",
              "                        '6b1af59b-a52c-4e98-9e5e-ac0217834133',\n",
              "                        [{\"name\": \"cnn\", \"type\": \"scattergl\", \"y\": [0.7546702027320862, 0.7491596341133118, 0.7403427362442017, 0.734336256980896, 0.7299278378486633]}, {\"name\": \"rnn\", \"type\": \"scattergl\", \"y\": [0.7463492751121521, 0.7494902610778809, 0.7362098693847656, 0.73384028673172, 0.729046106338501]}, {\"name\": \"lstm\", \"type\": \"scattergl\", \"y\": [0.7578663229942322, 0.7463492751121521, 0.7369261980056763, 0.7304788827896118, 0.7296522855758667]}, {\"name\": \"gru\", \"type\": \"scattergl\", \"y\": [0.7516945004463196, 0.7504270672798157, 0.7347220182418823, 0.7331239581108093, 0.7314707636833191]}, {\"name\": \"cnn+gru\", \"type\": \"scattergl\", \"y\": [0.7527965903282166, 0.7492698431015015, 0.7377527952194214, 0.7330137491226196, 0.7300931215286255]}, {\"name\": \"cnn+lstm\", \"type\": \"scattergl\", \"y\": [0.7537333965301514, 0.7459635138511658, 0.7389650940895081, 0.7318013906478882, 0.7275582551956177]}, {\"name\": \"cnn+rnn\", \"type\": \"scattergl\", \"y\": [0.7490494251251221, 0.7548354864120483, 0.7377527952194214, 0.7318565249443054, 0.7287706136703491]}, {\"name\": \"cnn->gru\", \"type\": \"scattergl\", \"y\": [0.7516393661499023, 0.7472309470176697, 0.7349424362182617, 0.729046106338501, 0.7250785231590271]}, {\"name\": \"cnn->lstm\", \"type\": \"scattergl\", \"y\": [0.7488290071487427, 0.750316858291626, 0.7388548851013184, 0.7261255383491516, 0.7299829125404358]}, {\"name\": \"cnn->rnn\", \"type\": \"scattergl\", \"y\": [0.7527965903282166, 0.7493800520896912, 0.7326279878616333, 0.7297624945640564, 0.7237560153007507]}, {\"line\": {\"color\": \"black\"}, \"name\": \"gru->cnn\", \"type\": \"scattergl\", \"y\": [0.7535680532455444, 0.7471758127212524, 0.7400672435760498, 0.7307543754577637, 0.7277786731719971]}, {\"line\": {\"color\": \"brown\"}, \"name\": \"lstm->cnn\", \"type\": \"scattergl\", \"y\": [0.7472860813140869, 0.7442552447319031, 0.7329034805297852, 0.7287154793739319, 0.725849986076355]}, {\"line\": {\"color\": \"gray\"}, \"name\": \"rnn->cnn\", \"type\": \"scattergl\", \"y\": [0.7435388565063477, 0.7489392161369324, 0.7339504957199097, 0.735438346862793, 0.7302584648132324]}, {\"line\": {\"color\": \"green\"}, \"name\": \"CNN->GRU->LSTM->SimpleRNN\", \"type\": \"scattergl\", \"y\": [0.7543395757675171, 0.7483330368995667, 0.7260153293609619, 0.7185760736465454, 0.7213864326477051]}],\n",
              "                        {\"height\": 900, \"template\": {\"data\": {\"bar\": [{\"error_x\": {\"color\": \"#2a3f5f\"}, \"error_y\": {\"color\": \"#2a3f5f\"}, \"marker\": {\"line\": {\"color\": \"#E5ECF6\", \"width\": 0.5}}, \"type\": \"bar\"}], \"barpolar\": [{\"marker\": {\"line\": {\"color\": \"#E5ECF6\", \"width\": 0.5}}, \"type\": \"barpolar\"}], \"carpet\": [{\"aaxis\": {\"endlinecolor\": \"#2a3f5f\", \"gridcolor\": \"white\", \"linecolor\": \"white\", \"minorgridcolor\": \"white\", \"startlinecolor\": \"#2a3f5f\"}, \"baxis\": {\"endlinecolor\": \"#2a3f5f\", \"gridcolor\": \"white\", \"linecolor\": \"white\", \"minorgridcolor\": \"white\", \"startlinecolor\": \"#2a3f5f\"}, \"type\": \"carpet\"}], \"choropleth\": [{\"colorbar\": {\"outlinewidth\": 0, \"ticks\": \"\"}, \"type\": \"choropleth\"}], \"contour\": [{\"colorbar\": {\"outlinewidth\": 0, \"ticks\": \"\"}, \"colorscale\": [[0.0, \"#0d0887\"], [0.1111111111111111, \"#46039f\"], [0.2222222222222222, \"#7201a8\"], [0.3333333333333333, \"#9c179e\"], [0.4444444444444444, \"#bd3786\"], [0.5555555555555556, \"#d8576b\"], [0.6666666666666666, \"#ed7953\"], [0.7777777777777778, \"#fb9f3a\"], [0.8888888888888888, \"#fdca26\"], [1.0, \"#f0f921\"]], \"type\": \"contour\"}], \"contourcarpet\": [{\"colorbar\": {\"outlinewidth\": 0, \"ticks\": \"\"}, \"type\": \"contourcarpet\"}], \"heatmap\": [{\"colorbar\": {\"outlinewidth\": 0, \"ticks\": \"\"}, \"colorscale\": [[0.0, \"#0d0887\"], [0.1111111111111111, \"#46039f\"], [0.2222222222222222, \"#7201a8\"], [0.3333333333333333, \"#9c179e\"], [0.4444444444444444, \"#bd3786\"], [0.5555555555555556, \"#d8576b\"], [0.6666666666666666, \"#ed7953\"], [0.7777777777777778, \"#fb9f3a\"], [0.8888888888888888, \"#fdca26\"], [1.0, \"#f0f921\"]], \"type\": \"heatmap\"}], \"heatmapgl\": [{\"colorbar\": {\"outlinewidth\": 0, \"ticks\": \"\"}, \"colorscale\": [[0.0, \"#0d0887\"], [0.1111111111111111, \"#46039f\"], [0.2222222222222222, \"#7201a8\"], [0.3333333333333333, \"#9c179e\"], [0.4444444444444444, \"#bd3786\"], [0.5555555555555556, \"#d8576b\"], [0.6666666666666666, \"#ed7953\"], [0.7777777777777778, \"#fb9f3a\"], [0.8888888888888888, \"#fdca26\"], [1.0, \"#f0f921\"]], \"type\": \"heatmapgl\"}], \"histogram\": [{\"marker\": {\"colorbar\": {\"outlinewidth\": 0, \"ticks\": \"\"}}, \"type\": \"histogram\"}], \"histogram2d\": [{\"colorbar\": {\"outlinewidth\": 0, \"ticks\": \"\"}, \"colorscale\": [[0.0, \"#0d0887\"], [0.1111111111111111, \"#46039f\"], [0.2222222222222222, \"#7201a8\"], [0.3333333333333333, \"#9c179e\"], [0.4444444444444444, \"#bd3786\"], [0.5555555555555556, \"#d8576b\"], [0.6666666666666666, \"#ed7953\"], [0.7777777777777778, \"#fb9f3a\"], [0.8888888888888888, \"#fdca26\"], [1.0, \"#f0f921\"]], \"type\": \"histogram2d\"}], \"histogram2dcontour\": [{\"colorbar\": {\"outlinewidth\": 0, \"ticks\": \"\"}, \"colorscale\": [[0.0, \"#0d0887\"], [0.1111111111111111, \"#46039f\"], [0.2222222222222222, \"#7201a8\"], [0.3333333333333333, \"#9c179e\"], [0.4444444444444444, \"#bd3786\"], [0.5555555555555556, \"#d8576b\"], [0.6666666666666666, \"#ed7953\"], [0.7777777777777778, \"#fb9f3a\"], [0.8888888888888888, \"#fdca26\"], [1.0, \"#f0f921\"]], \"type\": \"histogram2dcontour\"}], \"mesh3d\": [{\"colorbar\": {\"outlinewidth\": 0, \"ticks\": \"\"}, \"type\": \"mesh3d\"}], \"parcoords\": [{\"line\": {\"colorbar\": {\"outlinewidth\": 0, \"ticks\": \"\"}}, \"type\": \"parcoords\"}], \"pie\": [{\"automargin\": true, \"type\": \"pie\"}], \"scatter\": [{\"marker\": {\"colorbar\": {\"outlinewidth\": 0, \"ticks\": \"\"}}, \"type\": \"scatter\"}], \"scatter3d\": [{\"line\": {\"colorbar\": {\"outlinewidth\": 0, \"ticks\": \"\"}}, \"marker\": {\"colorbar\": {\"outlinewidth\": 0, \"ticks\": \"\"}}, \"type\": \"scatter3d\"}], \"scattercarpet\": [{\"marker\": {\"colorbar\": {\"outlinewidth\": 0, \"ticks\": \"\"}}, \"type\": \"scattercarpet\"}], \"scattergeo\": [{\"marker\": {\"colorbar\": {\"outlinewidth\": 0, \"ticks\": \"\"}}, \"type\": \"scattergeo\"}], \"scattergl\": [{\"marker\": {\"colorbar\": {\"outlinewidth\": 0, \"ticks\": \"\"}}, \"type\": \"scattergl\"}], \"scattermapbox\": [{\"marker\": {\"colorbar\": {\"outlinewidth\": 0, \"ticks\": \"\"}}, \"type\": \"scattermapbox\"}], \"scatterpolar\": [{\"marker\": {\"colorbar\": {\"outlinewidth\": 0, \"ticks\": \"\"}}, \"type\": \"scatterpolar\"}], \"scatterpolargl\": [{\"marker\": {\"colorbar\": {\"outlinewidth\": 0, \"ticks\": \"\"}}, \"type\": \"scatterpolargl\"}], \"scatterternary\": [{\"marker\": {\"colorbar\": {\"outlinewidth\": 0, \"ticks\": \"\"}}, \"type\": \"scatterternary\"}], \"surface\": [{\"colorbar\": {\"outlinewidth\": 0, \"ticks\": \"\"}, \"colorscale\": [[0.0, \"#0d0887\"], [0.1111111111111111, \"#46039f\"], [0.2222222222222222, \"#7201a8\"], [0.3333333333333333, \"#9c179e\"], [0.4444444444444444, \"#bd3786\"], [0.5555555555555556, \"#d8576b\"], [0.6666666666666666, \"#ed7953\"], [0.7777777777777778, \"#fb9f3a\"], [0.8888888888888888, \"#fdca26\"], [1.0, \"#f0f921\"]], \"type\": \"surface\"}], \"table\": [{\"cells\": {\"fill\": {\"color\": \"#EBF0F8\"}, \"line\": {\"color\": \"white\"}}, \"header\": {\"fill\": {\"color\": \"#C8D4E3\"}, \"line\": {\"color\": \"white\"}}, \"type\": \"table\"}]}, \"layout\": {\"annotationdefaults\": {\"arrowcolor\": \"#2a3f5f\", \"arrowhead\": 0, \"arrowwidth\": 1}, \"coloraxis\": {\"colorbar\": {\"outlinewidth\": 0, \"ticks\": \"\"}}, \"colorscale\": {\"diverging\": [[0, \"#8e0152\"], [0.1, \"#c51b7d\"], [0.2, \"#de77ae\"], [0.3, \"#f1b6da\"], [0.4, \"#fde0ef\"], [0.5, \"#f7f7f7\"], [0.6, \"#e6f5d0\"], [0.7, \"#b8e186\"], [0.8, \"#7fbc41\"], [0.9, \"#4d9221\"], [1, \"#276419\"]], \"sequential\": [[0.0, \"#0d0887\"], [0.1111111111111111, \"#46039f\"], [0.2222222222222222, \"#7201a8\"], [0.3333333333333333, \"#9c179e\"], [0.4444444444444444, \"#bd3786\"], [0.5555555555555556, \"#d8576b\"], [0.6666666666666666, \"#ed7953\"], [0.7777777777777778, \"#fb9f3a\"], [0.8888888888888888, \"#fdca26\"], [1.0, \"#f0f921\"]], \"sequentialminus\": [[0.0, \"#0d0887\"], [0.1111111111111111, \"#46039f\"], [0.2222222222222222, \"#7201a8\"], [0.3333333333333333, \"#9c179e\"], [0.4444444444444444, \"#bd3786\"], [0.5555555555555556, \"#d8576b\"], [0.6666666666666666, \"#ed7953\"], [0.7777777777777778, \"#fb9f3a\"], [0.8888888888888888, \"#fdca26\"], [1.0, \"#f0f921\"]]}, \"colorway\": [\"#636efa\", \"#EF553B\", \"#00cc96\", \"#ab63fa\", \"#FFA15A\", \"#19d3f3\", \"#FF6692\", \"#B6E880\", \"#FF97FF\", \"#FECB52\"], \"font\": {\"color\": \"#2a3f5f\"}, \"geo\": {\"bgcolor\": \"white\", \"lakecolor\": \"white\", \"landcolor\": \"#E5ECF6\", \"showlakes\": true, \"showland\": true, \"subunitcolor\": \"white\"}, \"hoverlabel\": {\"align\": \"left\"}, \"hovermode\": \"closest\", \"mapbox\": {\"style\": \"light\"}, \"paper_bgcolor\": \"white\", \"plot_bgcolor\": \"#E5ECF6\", \"polar\": {\"angularaxis\": {\"gridcolor\": \"white\", \"linecolor\": \"white\", \"ticks\": \"\"}, \"bgcolor\": \"#E5ECF6\", \"radialaxis\": {\"gridcolor\": \"white\", \"linecolor\": \"white\", \"ticks\": \"\"}}, \"scene\": {\"xaxis\": {\"backgroundcolor\": \"#E5ECF6\", \"gridcolor\": \"white\", \"gridwidth\": 2, \"linecolor\": \"white\", \"showbackground\": true, \"ticks\": \"\", \"zerolinecolor\": \"white\"}, \"yaxis\": {\"backgroundcolor\": \"#E5ECF6\", \"gridcolor\": \"white\", \"gridwidth\": 2, \"linecolor\": \"white\", \"showbackground\": true, \"ticks\": \"\", \"zerolinecolor\": \"white\"}, \"zaxis\": {\"backgroundcolor\": \"#E5ECF6\", \"gridcolor\": \"white\", \"gridwidth\": 2, \"linecolor\": \"white\", \"showbackground\": true, \"ticks\": \"\", \"zerolinecolor\": \"white\"}}, \"shapedefaults\": {\"line\": {\"color\": \"#2a3f5f\"}}, \"ternary\": {\"aaxis\": {\"gridcolor\": \"white\", \"linecolor\": \"white\", \"ticks\": \"\"}, \"baxis\": {\"gridcolor\": \"white\", \"linecolor\": \"white\", \"ticks\": \"\"}, \"bgcolor\": \"#E5ECF6\", \"caxis\": {\"gridcolor\": \"white\", \"linecolor\": \"white\", \"ticks\": \"\"}}, \"title\": {\"x\": 0.05}, \"xaxis\": {\"automargin\": true, \"gridcolor\": \"white\", \"linecolor\": \"white\", \"ticks\": \"\", \"title\": {\"standoff\": 15}, \"zerolinecolor\": \"white\", \"zerolinewidth\": 2}, \"yaxis\": {\"automargin\": true, \"gridcolor\": \"white\", \"linecolor\": \"white\", \"ticks\": \"\", \"title\": {\"standoff\": 15}, \"zerolinecolor\": \"white\", \"zerolinewidth\": 2}}}, \"width\": 1100, \"xaxis\": {\"title\": {\"text\": \"Epoch\"}}, \"yaxis\": {\"title\": {\"text\": \"Val Accuracy\"}}},\n",
              "                        {\"responsive\": true}\n",
              "                    ).then(function(){\n",
              "                            \n",
              "var gd = document.getElementById('6b1af59b-a52c-4e98-9e5e-ac0217834133');\n",
              "var x = new MutationObserver(function (mutations, observer) {{\n",
              "        var display = window.getComputedStyle(gd).display;\n",
              "        if (!display || display === 'none') {{\n",
              "            console.log([gd, 'removed!']);\n",
              "            Plotly.purge(gd);\n",
              "            observer.disconnect();\n",
              "        }}\n",
              "}});\n",
              "\n",
              "// Listen for the removal of the full notebook cells\n",
              "var notebookContainer = gd.closest('#notebook-container');\n",
              "if (notebookContainer) {{\n",
              "    x.observe(notebookContainer, {childList: true});\n",
              "}}\n",
              "\n",
              "// Listen for the clearing of the current output cell\n",
              "var outputEl = gd.closest('.output');\n",
              "if (outputEl) {{\n",
              "    x.observe(outputEl, {childList: true});\n",
              "}}\n",
              "\n",
              "                        })\n",
              "                };\n",
              "                \n",
              "            </script>\n",
              "        </div>\n",
              "</body>\n",
              "</html>"
            ]
          },
          "metadata": {}
        }
      ]
    },
    {
      "cell_type": "markdown",
      "metadata": {
        "id": "-B-fMc008_pX"
      },
      "source": [
        "Но если смотреть результат на валидационной подвыборке, то самая высокая точность на первой эпохе(до того как сеть начала переобучаться) видна у LSTM, CNN, CNN->GRU->LSTM->SimpleRNN Схожую точность на второй эпохе показала CNN+RNN.\n",
        "\n",
        "Вывод: В зависимости от данных задачи, нужно пробовать различные конфигурации CNN, RNN, CNN->RNN, RNN->CNN и смотреть что работает лучше. В данном примере рекурсивные сети сами по себе, либо в сочетании со свёрточными показали себя несколько лучше, чем просто свёрточная сеть."
      ]
    }
  ]
}